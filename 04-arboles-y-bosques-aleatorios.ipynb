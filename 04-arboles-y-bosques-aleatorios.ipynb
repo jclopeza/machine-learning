{
 "cells": [
  {
   "cell_type": "markdown",
   "metadata": {},
   "source": [
    "# Árboles y bosques aleatorios\n",
    "\n",
    "Supongamos que tenemos estos datos ...\n",
    "\n",
    "<img src=\"img/img_999(018).png\" width=650/>\n",
    "\n",
    "¿Cómo podríamos generar el siguiente árbol de decisión?, ¿cómo sabríamos qué variables nos dan más información para ponerlas en los primeros niveles de decisión?\n",
    "\n",
    "<img src=\"img/img_999(019).png\" width=650/>\n",
    "\n",
    "Las **reglas de decisión** para obtener una cosecha óptima serían:\n",
    "\n",
    "<img src=\"img/img_999(020).png\" width=550/>"
   ]
  },
  {
   "cell_type": "markdown",
   "metadata": {},
   "source": [
    "# Matemáticas detrás de un árbol de decisión"
   ]
  },
  {
   "cell_type": "markdown",
   "metadata": {},
   "source": [
    "## Homogeneidad\n",
    "\n",
    "<img src=\"img/img_999(021).png\" width=600/>\n",
    "\n",
    "De las 4 variables predictoras, buscamos aquella que nos de una distribución lo más homogénea posible de la variable a predecir, en este caso la fertilidad de los terrenos. Es decir, **la que es capaz de agrupar más datos**.\n",
    "\n",
    "<img src=\"img/img_999(022).png\" width=600/>\n",
    "\n",
    "Vemos que la que distribuye mejor la fertilidad de los terrenos es la variable **lluvias**. Vemos que la **lluvia = Baja** agrupa a más del 70% de los datos asignando una fertilidad **Pobre**."
   ]
  },
  {
   "cell_type": "markdown",
   "metadata": {},
   "source": [
    "# Entropía\n",
    "\n",
    "<img src=\"img/img_999(023).png\" width=450/>\n",
    "\n",
    "<img src=\"img/img_999(024).png\" width=450/>\n",
    "\n",
    "<img src=\"img/img_999(025).png\" width=450/>\n",
    "\n",
    "<img src=\"img/img_999(026).png\" width=650/>\n"
   ]
  },
  {
   "cell_type": "markdown",
   "metadata": {},
   "source": [
    "# Ganancia de información o incremento de entropía.\n",
    "\n",
    "Entropía del dataset sobre la variable objetivo.\n",
    "\n",
    "<img src=\"img/img_999(027).png\" width=650/>\n",
    "\n",
    "Ahora podemos estudiar para cada una de las variables predictoras, cuál es la aporta más incremento a la entropía. En este ejemplo estudiamos la variable **Terreno**.\n",
    "\n",
    "<img src=\"img/img_999(028).png\" width=650/>\n",
    "\n",
    "Por tanto, la ganancia de información en caso de escoger **Terreno** como nodo de división en el árbol será ...\n",
    "\n",
    "<img src=\"img/img_999(029).png\" width=650/>\n",
    "\n",
    "Será 0.14 puntos. Si lo repetimos para todas las variables predictoras tenemos que:\n",
    "\n",
    "* 0.14 puntos para el terreno\n",
    "* 0.42 puntos para las lluvias\n",
    "* 0.36 puntos para fertilizantes\n",
    "* 0.16 puntos para aguas subterráneas\n",
    "\n",
    "Por tanto, la variable que demuestra una máxima ganancia de información es la que se elige como primer nodo de clasificación. En nuestro caso, **lluvias**. **Porque es la que más disminuye la entropía.**"
   ]
  },
  {
   "cell_type": "markdown",
   "metadata": {},
   "source": [
    "# Índice de Gini\n",
    "\n",
    "<img src=\"img/img_999(031).png\" width=550/>\n",
    "\n",
    "<img src=\"img/img_999(032).png\" width=550/>\n",
    "\n",
    "<img src=\"img/img_999(033).png\" width=550/>\n",
    "\n",
    "<img src=\"img/img_999(034).png\" width=550/>\n",
    "\n",
    "<img src=\"img/img_999(035).png\" width=550/>\n",
    "\n",
    "<img src=\"img/img_999(037).png\" width=550/>"
   ]
  },
  {
   "cell_type": "markdown",
   "metadata": {},
   "source": [
    "# Algoritmo para crear árboles de decisión\n",
    "\n",
    "<img src=\"img/img_999(030).png\" width=650/>"
   ]
  },
  {
   "cell_type": "markdown",
   "metadata": {},
   "source": [
    "# Árbol de decisión para especies de flores"
   ]
  },
  {
   "cell_type": "code",
   "execution_count": 53,
   "metadata": {},
   "outputs": [],
   "source": [
    "import pandas as pd\n",
    "import matplotlib.pyplot as plt"
   ]
  },
  {
   "cell_type": "code",
   "execution_count": 54,
   "metadata": {},
   "outputs": [
    {
     "data": {
      "text/html": [
       "<div>\n",
       "<style scoped>\n",
       "    .dataframe tbody tr th:only-of-type {\n",
       "        vertical-align: middle;\n",
       "    }\n",
       "\n",
       "    .dataframe tbody tr th {\n",
       "        vertical-align: top;\n",
       "    }\n",
       "\n",
       "    .dataframe thead th {\n",
       "        text-align: right;\n",
       "    }\n",
       "</style>\n",
       "<table border=\"1\" class=\"dataframe\">\n",
       "  <thead>\n",
       "    <tr style=\"text-align: right;\">\n",
       "      <th></th>\n",
       "      <th>Sepal.Length</th>\n",
       "      <th>Sepal.Width</th>\n",
       "      <th>Petal.Length</th>\n",
       "      <th>Petal.Width</th>\n",
       "      <th>Species</th>\n",
       "    </tr>\n",
       "  </thead>\n",
       "  <tbody>\n",
       "    <tr>\n",
       "      <th>0</th>\n",
       "      <td>5.1</td>\n",
       "      <td>3.5</td>\n",
       "      <td>1.4</td>\n",
       "      <td>0.2</td>\n",
       "      <td>setosa</td>\n",
       "    </tr>\n",
       "    <tr>\n",
       "      <th>1</th>\n",
       "      <td>4.9</td>\n",
       "      <td>3.0</td>\n",
       "      <td>1.4</td>\n",
       "      <td>0.2</td>\n",
       "      <td>setosa</td>\n",
       "    </tr>\n",
       "    <tr>\n",
       "      <th>2</th>\n",
       "      <td>4.7</td>\n",
       "      <td>3.2</td>\n",
       "      <td>1.3</td>\n",
       "      <td>0.2</td>\n",
       "      <td>setosa</td>\n",
       "    </tr>\n",
       "    <tr>\n",
       "      <th>3</th>\n",
       "      <td>4.6</td>\n",
       "      <td>3.1</td>\n",
       "      <td>1.5</td>\n",
       "      <td>0.2</td>\n",
       "      <td>setosa</td>\n",
       "    </tr>\n",
       "    <tr>\n",
       "      <th>4</th>\n",
       "      <td>5.0</td>\n",
       "      <td>3.6</td>\n",
       "      <td>1.4</td>\n",
       "      <td>0.2</td>\n",
       "      <td>setosa</td>\n",
       "    </tr>\n",
       "  </tbody>\n",
       "</table>\n",
       "</div>"
      ],
      "text/plain": [
       "   Sepal.Length  Sepal.Width  Petal.Length  Petal.Width Species\n",
       "0           5.1          3.5           1.4          0.2  setosa\n",
       "1           4.9          3.0           1.4          0.2  setosa\n",
       "2           4.7          3.2           1.3          0.2  setosa\n",
       "3           4.6          3.1           1.5          0.2  setosa\n",
       "4           5.0          3.6           1.4          0.2  setosa"
      ]
     },
     "execution_count": 54,
     "metadata": {},
     "output_type": "execute_result"
    }
   ],
   "source": [
    "data = pd.read_csv(\"datasets/iris/iris.csv\")\n",
    "data.head()"
   ]
  },
  {
   "cell_type": "code",
   "execution_count": 55,
   "metadata": {},
   "outputs": [
    {
     "data": {
      "text/plain": [
       "(150, 5)"
      ]
     },
     "execution_count": 55,
     "metadata": {},
     "output_type": "execute_result"
    }
   ],
   "source": [
    "data.shape"
   ]
  },
  {
   "cell_type": "code",
   "execution_count": 56,
   "metadata": {},
   "outputs": [
    {
     "data": {
      "text/plain": [
       "array(['setosa', 'versicolor', 'virginica'], dtype=object)"
      ]
     },
     "execution_count": 56,
     "metadata": {},
     "output_type": "execute_result"
    }
   ],
   "source": [
    "# ¿Cuántas especies tenemos en total?\n",
    "data[\"Species\"].unique()"
   ]
  },
  {
   "cell_type": "code",
   "execution_count": 57,
   "metadata": {},
   "outputs": [
    {
     "data": {
      "text/plain": [
       "array(['Sepal.Length', 'Sepal.Width', 'Petal.Length', 'Petal.Width'],\n",
       "      dtype=object)"
      ]
     },
     "execution_count": 57,
     "metadata": {},
     "output_type": "execute_result"
    }
   ],
   "source": [
    "# Obtengamos las variables predictoras\n",
    "predictors = data.columns.values[:4]\n",
    "predictors"
   ]
  },
  {
   "cell_type": "code",
   "execution_count": 58,
   "metadata": {},
   "outputs": [
    {
     "data": {
      "text/plain": [
       "'Species'"
      ]
     },
     "execution_count": 58,
     "metadata": {},
     "output_type": "execute_result"
    }
   ],
   "source": [
    "# Obtengamos la target\n",
    "target = data.columns.values[4]\n",
    "target"
   ]
  },
  {
   "cell_type": "code",
   "execution_count": 59,
   "metadata": {},
   "outputs": [],
   "source": [
    "# Dividimos el dataset en train y test\n",
    "from sklearn.model_selection import train_test_split\n",
    "X_train, X_test, y_train, y_test = train_test_split(data[predictors], data[target], test_size=0.2, random_state=42)"
   ]
  },
  {
   "cell_type": "code",
   "execution_count": 60,
   "metadata": {},
   "outputs": [
    {
     "data": {
      "text/plain": [
       "((120, 4), (30, 4), (120,), (30,))"
      ]
     },
     "execution_count": 60,
     "metadata": {},
     "output_type": "execute_result"
    }
   ],
   "source": [
    "X_train.shape, X_test.shape, y_train.shape, y_test.shape"
   ]
  },
  {
   "cell_type": "markdown",
   "metadata": {},
   "source": [
    "# Entrenamiento del modelo"
   ]
  },
  {
   "cell_type": "code",
   "execution_count": 61,
   "metadata": {},
   "outputs": [],
   "source": [
    "from sklearn.tree import DecisionTreeClassifier"
   ]
  },
  {
   "cell_type": "code",
   "execution_count": 62,
   "metadata": {},
   "outputs": [],
   "source": [
    "tree = DecisionTreeClassifier(criterion=\"entropy\", min_samples_split=20, random_state=42)"
   ]
  },
  {
   "cell_type": "code",
   "execution_count": 63,
   "metadata": {},
   "outputs": [
    {
     "data": {
      "text/plain": [
       "DecisionTreeClassifier(criterion='entropy', min_samples_split=20,\n",
       "                       random_state=42)"
      ]
     },
     "execution_count": 63,
     "metadata": {},
     "output_type": "execute_result"
    }
   ],
   "source": [
    "tree.fit(X_train, y_train)"
   ]
  },
  {
   "cell_type": "markdown",
   "metadata": {},
   "source": [
    "# Predicciones"
   ]
  },
  {
   "cell_type": "code",
   "execution_count": 64,
   "metadata": {},
   "outputs": [],
   "source": [
    "preds = tree.predict(X_test)"
   ]
  },
  {
   "cell_type": "code",
   "execution_count": 65,
   "metadata": {},
   "outputs": [
    {
     "data": {
      "text/html": [
       "<div>\n",
       "<style scoped>\n",
       "    .dataframe tbody tr th:only-of-type {\n",
       "        vertical-align: middle;\n",
       "    }\n",
       "\n",
       "    .dataframe tbody tr th {\n",
       "        vertical-align: top;\n",
       "    }\n",
       "\n",
       "    .dataframe thead th {\n",
       "        text-align: right;\n",
       "    }\n",
       "</style>\n",
       "<table border=\"1\" class=\"dataframe\">\n",
       "  <thead>\n",
       "    <tr style=\"text-align: right;\">\n",
       "      <th>Predicciones</th>\n",
       "      <th>setosa</th>\n",
       "      <th>versicolor</th>\n",
       "      <th>virginica</th>\n",
       "    </tr>\n",
       "    <tr>\n",
       "      <th>Actual</th>\n",
       "      <th></th>\n",
       "      <th></th>\n",
       "      <th></th>\n",
       "    </tr>\n",
       "  </thead>\n",
       "  <tbody>\n",
       "    <tr>\n",
       "      <th>setosa</th>\n",
       "      <td>10</td>\n",
       "      <td>0</td>\n",
       "      <td>0</td>\n",
       "    </tr>\n",
       "    <tr>\n",
       "      <th>versicolor</th>\n",
       "      <td>0</td>\n",
       "      <td>9</td>\n",
       "      <td>0</td>\n",
       "    </tr>\n",
       "    <tr>\n",
       "      <th>virginica</th>\n",
       "      <td>0</td>\n",
       "      <td>0</td>\n",
       "      <td>11</td>\n",
       "    </tr>\n",
       "  </tbody>\n",
       "</table>\n",
       "</div>"
      ],
      "text/plain": [
       "Predicciones  setosa  versicolor  virginica\n",
       "Actual                                     \n",
       "setosa            10           0          0\n",
       "versicolor         0           9          0\n",
       "virginica          0           0         11"
      ]
     },
     "execution_count": 65,
     "metadata": {},
     "output_type": "execute_result"
    }
   ],
   "source": [
    "pd.crosstab(y_test, preds, rownames=[\"Actual\"], colnames=[\"Predicciones\"])"
   ]
  },
  {
   "cell_type": "markdown",
   "metadata": {},
   "source": [
    "# Visualización del árbol de decisión\n",
    "\n",
    "Se necesitan 4 pasos"
   ]
  },
  {
   "cell_type": "code",
   "execution_count": 66,
   "metadata": {},
   "outputs": [],
   "source": [
    "from sklearn.tree import export_graphviz"
   ]
  },
  {
   "cell_type": "code",
   "execution_count": 67,
   "metadata": {},
   "outputs": [],
   "source": [
    "with open(\"resources/iris_dtree.dot\", \"w\") as dotfile:\n",
    "    export_graphviz(tree, out_file=dotfile, feature_names=predictors)\n",
    "    dotfile.close()"
   ]
  },
  {
   "cell_type": "code",
   "execution_count": 68,
   "metadata": {},
   "outputs": [],
   "source": [
    "import os\n",
    "from graphviz import Source"
   ]
  },
  {
   "cell_type": "code",
   "execution_count": 69,
   "metadata": {},
   "outputs": [
    {
     "data": {
      "image/svg+xml": [
       "<?xml version=\"1.0\" encoding=\"UTF-8\" standalone=\"no\"?>\n",
       "<!DOCTYPE svg PUBLIC \"-//W3C//DTD SVG 1.1//EN\"\n",
       " \"http://www.w3.org/Graphics/SVG/1.1/DTD/svg11.dtd\">\n",
       "<!-- Generated by graphviz version 2.40.1 (20161225.0304)\n",
       " -->\n",
       "<!-- Title: Tree Pages: 1 -->\n",
       "<svg width=\"587pt\" height=\"477pt\"\n",
       " viewBox=\"0.00 0.00 587.00 477.00\" xmlns=\"http://www.w3.org/2000/svg\" xmlns:xlink=\"http://www.w3.org/1999/xlink\">\n",
       "<g id=\"graph0\" class=\"graph\" transform=\"scale(1 1) rotate(0) translate(4 473)\">\n",
       "<title>Tree</title>\n",
       "<polygon fill=\"#ffffff\" stroke=\"transparent\" points=\"-4,4 -4,-473 583,-473 583,4 -4,4\"/>\n",
       "<!-- 0 -->\n",
       "<g id=\"node1\" class=\"node\">\n",
       "<title>0</title>\n",
       "<polygon fill=\"none\" stroke=\"#000000\" points=\"248.5,-469 114.5,-469 114.5,-401 248.5,-401 248.5,-469\"/>\n",
       "<text text-anchor=\"middle\" x=\"181.5\" y=\"-453.8\" font-family=\"Times,serif\" font-size=\"14.00\" fill=\"#000000\">Petal.Length &lt;= 2.45</text>\n",
       "<text text-anchor=\"middle\" x=\"181.5\" y=\"-438.8\" font-family=\"Times,serif\" font-size=\"14.00\" fill=\"#000000\">entropy = 1.585</text>\n",
       "<text text-anchor=\"middle\" x=\"181.5\" y=\"-423.8\" font-family=\"Times,serif\" font-size=\"14.00\" fill=\"#000000\">samples = 120</text>\n",
       "<text text-anchor=\"middle\" x=\"181.5\" y=\"-408.8\" font-family=\"Times,serif\" font-size=\"14.00\" fill=\"#000000\">value = [40, 41, 39]</text>\n",
       "</g>\n",
       "<!-- 1 -->\n",
       "<g id=\"node2\" class=\"node\">\n",
       "<title>1</title>\n",
       "<polygon fill=\"none\" stroke=\"#000000\" points=\"167,-357.5 54,-357.5 54,-304.5 167,-304.5 167,-357.5\"/>\n",
       "<text text-anchor=\"middle\" x=\"110.5\" y=\"-342.3\" font-family=\"Times,serif\" font-size=\"14.00\" fill=\"#000000\">entropy = 0.0</text>\n",
       "<text text-anchor=\"middle\" x=\"110.5\" y=\"-327.3\" font-family=\"Times,serif\" font-size=\"14.00\" fill=\"#000000\">samples = 40</text>\n",
       "<text text-anchor=\"middle\" x=\"110.5\" y=\"-312.3\" font-family=\"Times,serif\" font-size=\"14.00\" fill=\"#000000\">value = [40, 0, 0]</text>\n",
       "</g>\n",
       "<!-- 0&#45;&gt;1 -->\n",
       "<g id=\"edge1\" class=\"edge\">\n",
       "<title>0&#45;&gt;1</title>\n",
       "<path fill=\"none\" stroke=\"#000000\" d=\"M158.2519,-400.9465C150.5818,-389.7113 142.0418,-377.2021 134.3289,-365.9043\"/>\n",
       "<polygon fill=\"#000000\" stroke=\"#000000\" points=\"137.1491,-363.8277 128.6201,-357.5422 131.3678,-367.7745 137.1491,-363.8277\"/>\n",
       "<text text-anchor=\"middle\" x=\"123.9875\" y=\"-378.4092\" font-family=\"Times,serif\" font-size=\"14.00\" fill=\"#000000\">True</text>\n",
       "</g>\n",
       "<!-- 2 -->\n",
       "<g id=\"node3\" class=\"node\">\n",
       "<title>2</title>\n",
       "<polygon fill=\"none\" stroke=\"#000000\" points=\"319.5,-365 185.5,-365 185.5,-297 319.5,-297 319.5,-365\"/>\n",
       "<text text-anchor=\"middle\" x=\"252.5\" y=\"-349.8\" font-family=\"Times,serif\" font-size=\"14.00\" fill=\"#000000\">Petal.Length &lt;= 4.75</text>\n",
       "<text text-anchor=\"middle\" x=\"252.5\" y=\"-334.8\" font-family=\"Times,serif\" font-size=\"14.00\" fill=\"#000000\">entropy = 1.0</text>\n",
       "<text text-anchor=\"middle\" x=\"252.5\" y=\"-319.8\" font-family=\"Times,serif\" font-size=\"14.00\" fill=\"#000000\">samples = 80</text>\n",
       "<text text-anchor=\"middle\" x=\"252.5\" y=\"-304.8\" font-family=\"Times,serif\" font-size=\"14.00\" fill=\"#000000\">value = [0, 41, 39]</text>\n",
       "</g>\n",
       "<!-- 0&#45;&gt;2 -->\n",
       "<g id=\"edge2\" class=\"edge\">\n",
       "<title>0&#45;&gt;2</title>\n",
       "<path fill=\"none\" stroke=\"#000000\" d=\"M204.7481,-400.9465C210.755,-392.1475 217.2955,-382.5672 223.5543,-373.3993\"/>\n",
       "<polygon fill=\"#000000\" stroke=\"#000000\" points=\"226.452,-375.3623 229.1997,-365.13 220.6707,-371.4155 226.452,-375.3623\"/>\n",
       "<text text-anchor=\"middle\" x=\"233.8324\" y=\"-385.997\" font-family=\"Times,serif\" font-size=\"14.00\" fill=\"#000000\">False</text>\n",
       "</g>\n",
       "<!-- 3 -->\n",
       "<g id=\"node4\" class=\"node\">\n",
       "<title>3</title>\n",
       "<polygon fill=\"none\" stroke=\"#000000\" points=\"243.5,-261 113.5,-261 113.5,-193 243.5,-193 243.5,-261\"/>\n",
       "<text text-anchor=\"middle\" x=\"178.5\" y=\"-245.8\" font-family=\"Times,serif\" font-size=\"14.00\" fill=\"#000000\">Petal.Width &lt;= 1.65</text>\n",
       "<text text-anchor=\"middle\" x=\"178.5\" y=\"-230.8\" font-family=\"Times,serif\" font-size=\"14.00\" fill=\"#000000\">entropy = 0.179</text>\n",
       "<text text-anchor=\"middle\" x=\"178.5\" y=\"-215.8\" font-family=\"Times,serif\" font-size=\"14.00\" fill=\"#000000\">samples = 37</text>\n",
       "<text text-anchor=\"middle\" x=\"178.5\" y=\"-200.8\" font-family=\"Times,serif\" font-size=\"14.00\" fill=\"#000000\">value = [0, 36, 1]</text>\n",
       "</g>\n",
       "<!-- 2&#45;&gt;3 -->\n",
       "<g id=\"edge3\" class=\"edge\">\n",
       "<title>2&#45;&gt;3</title>\n",
       "<path fill=\"none\" stroke=\"#000000\" d=\"M228.2696,-296.9465C222.0088,-288.1475 215.192,-278.5672 208.6687,-269.3993\"/>\n",
       "<polygon fill=\"#000000\" stroke=\"#000000\" points=\"211.4342,-267.2488 202.7848,-261.13 205.7306,-271.3071 211.4342,-267.2488\"/>\n",
       "</g>\n",
       "<!-- 6 -->\n",
       "<g id=\"node7\" class=\"node\">\n",
       "<title>6</title>\n",
       "<polygon fill=\"none\" stroke=\"#000000\" points=\"391.5,-261 261.5,-261 261.5,-193 391.5,-193 391.5,-261\"/>\n",
       "<text text-anchor=\"middle\" x=\"326.5\" y=\"-245.8\" font-family=\"Times,serif\" font-size=\"14.00\" fill=\"#000000\">Petal.Width &lt;= 1.75</text>\n",
       "<text text-anchor=\"middle\" x=\"326.5\" y=\"-230.8\" font-family=\"Times,serif\" font-size=\"14.00\" fill=\"#000000\">entropy = 0.519</text>\n",
       "<text text-anchor=\"middle\" x=\"326.5\" y=\"-215.8\" font-family=\"Times,serif\" font-size=\"14.00\" fill=\"#000000\">samples = 43</text>\n",
       "<text text-anchor=\"middle\" x=\"326.5\" y=\"-200.8\" font-family=\"Times,serif\" font-size=\"14.00\" fill=\"#000000\">value = [0, 5, 38]</text>\n",
       "</g>\n",
       "<!-- 2&#45;&gt;6 -->\n",
       "<g id=\"edge6\" class=\"edge\">\n",
       "<title>2&#45;&gt;6</title>\n",
       "<path fill=\"none\" stroke=\"#000000\" d=\"M276.7304,-296.9465C282.9912,-288.1475 289.808,-278.5672 296.3313,-269.3993\"/>\n",
       "<polygon fill=\"#000000\" stroke=\"#000000\" points=\"299.2694,-271.3071 302.2152,-261.13 293.5658,-267.2488 299.2694,-271.3071\"/>\n",
       "</g>\n",
       "<!-- 4 -->\n",
       "<g id=\"node5\" class=\"node\">\n",
       "<title>4</title>\n",
       "<polygon fill=\"none\" stroke=\"#000000\" points=\"113,-149.5 0,-149.5 0,-96.5 113,-96.5 113,-149.5\"/>\n",
       "<text text-anchor=\"middle\" x=\"56.5\" y=\"-134.3\" font-family=\"Times,serif\" font-size=\"14.00\" fill=\"#000000\">entropy = 0.0</text>\n",
       "<text text-anchor=\"middle\" x=\"56.5\" y=\"-119.3\" font-family=\"Times,serif\" font-size=\"14.00\" fill=\"#000000\">samples = 36</text>\n",
       "<text text-anchor=\"middle\" x=\"56.5\" y=\"-104.3\" font-family=\"Times,serif\" font-size=\"14.00\" fill=\"#000000\">value = [0, 36, 0]</text>\n",
       "</g>\n",
       "<!-- 3&#45;&gt;4 -->\n",
       "<g id=\"edge4\" class=\"edge\">\n",
       "<title>3&#45;&gt;4</title>\n",
       "<path fill=\"none\" stroke=\"#000000\" d=\"M138.5526,-192.9465C124.7268,-181.1606 109.2564,-167.9726 95.5071,-156.2519\"/>\n",
       "<polygon fill=\"#000000\" stroke=\"#000000\" points=\"97.5168,-153.366 87.636,-149.5422 92.9756,-158.6931 97.5168,-153.366\"/>\n",
       "</g>\n",
       "<!-- 5 -->\n",
       "<g id=\"node6\" class=\"node\">\n",
       "<title>5</title>\n",
       "<polygon fill=\"none\" stroke=\"#000000\" points=\"237.5,-149.5 131.5,-149.5 131.5,-96.5 237.5,-96.5 237.5,-149.5\"/>\n",
       "<text text-anchor=\"middle\" x=\"184.5\" y=\"-134.3\" font-family=\"Times,serif\" font-size=\"14.00\" fill=\"#000000\">entropy = 0.0</text>\n",
       "<text text-anchor=\"middle\" x=\"184.5\" y=\"-119.3\" font-family=\"Times,serif\" font-size=\"14.00\" fill=\"#000000\">samples = 1</text>\n",
       "<text text-anchor=\"middle\" x=\"184.5\" y=\"-104.3\" font-family=\"Times,serif\" font-size=\"14.00\" fill=\"#000000\">value = [0, 0, 1]</text>\n",
       "</g>\n",
       "<!-- 3&#45;&gt;5 -->\n",
       "<g id=\"edge5\" class=\"edge\">\n",
       "<title>3&#45;&gt;5</title>\n",
       "<path fill=\"none\" stroke=\"#000000\" d=\"M180.4646,-192.9465C181.081,-182.2621 181.7639,-170.4254 182.3899,-159.5742\"/>\n",
       "<polygon fill=\"#000000\" stroke=\"#000000\" points=\"185.8869,-159.7272 182.9687,-149.5422 178.8985,-159.3239 185.8869,-159.7272\"/>\n",
       "</g>\n",
       "<!-- 7 -->\n",
       "<g id=\"node8\" class=\"node\">\n",
       "<title>7</title>\n",
       "<polygon fill=\"none\" stroke=\"#000000\" points=\"373.5,-149.5 267.5,-149.5 267.5,-96.5 373.5,-96.5 373.5,-149.5\"/>\n",
       "<text text-anchor=\"middle\" x=\"320.5\" y=\"-134.3\" font-family=\"Times,serif\" font-size=\"14.00\" fill=\"#000000\">entropy = 1.0</text>\n",
       "<text text-anchor=\"middle\" x=\"320.5\" y=\"-119.3\" font-family=\"Times,serif\" font-size=\"14.00\" fill=\"#000000\">samples = 8</text>\n",
       "<text text-anchor=\"middle\" x=\"320.5\" y=\"-104.3\" font-family=\"Times,serif\" font-size=\"14.00\" fill=\"#000000\">value = [0, 4, 4]</text>\n",
       "</g>\n",
       "<!-- 6&#45;&gt;7 -->\n",
       "<g id=\"edge7\" class=\"edge\">\n",
       "<title>6&#45;&gt;7</title>\n",
       "<path fill=\"none\" stroke=\"#000000\" d=\"M324.5354,-192.9465C323.919,-182.2621 323.2361,-170.4254 322.6101,-159.5742\"/>\n",
       "<polygon fill=\"#000000\" stroke=\"#000000\" points=\"326.1015,-159.3239 322.0313,-149.5422 319.1131,-159.7272 326.1015,-159.3239\"/>\n",
       "</g>\n",
       "<!-- 8 -->\n",
       "<g id=\"node9\" class=\"node\">\n",
       "<title>8</title>\n",
       "<polygon fill=\"none\" stroke=\"#000000\" points=\"525.5,-157 391.5,-157 391.5,-89 525.5,-89 525.5,-157\"/>\n",
       "<text text-anchor=\"middle\" x=\"458.5\" y=\"-141.8\" font-family=\"Times,serif\" font-size=\"14.00\" fill=\"#000000\">Petal.Length &lt;= 4.85</text>\n",
       "<text text-anchor=\"middle\" x=\"458.5\" y=\"-126.8\" font-family=\"Times,serif\" font-size=\"14.00\" fill=\"#000000\">entropy = 0.187</text>\n",
       "<text text-anchor=\"middle\" x=\"458.5\" y=\"-111.8\" font-family=\"Times,serif\" font-size=\"14.00\" fill=\"#000000\">samples = 35</text>\n",
       "<text text-anchor=\"middle\" x=\"458.5\" y=\"-96.8\" font-family=\"Times,serif\" font-size=\"14.00\" fill=\"#000000\">value = [0, 1, 34]</text>\n",
       "</g>\n",
       "<!-- 6&#45;&gt;8 -->\n",
       "<g id=\"edge8\" class=\"edge\">\n",
       "<title>6&#45;&gt;8</title>\n",
       "<path fill=\"none\" stroke=\"#000000\" d=\"M369.7217,-192.9465C381.6874,-183.519 394.7915,-173.1946 407.1704,-163.4415\"/>\n",
       "<polygon fill=\"#000000\" stroke=\"#000000\" points=\"409.4923,-166.068 415.1812,-157.13 405.1602,-160.5695 409.4923,-166.068\"/>\n",
       "</g>\n",
       "<!-- 9 -->\n",
       "<g id=\"node10\" class=\"node\">\n",
       "<title>9</title>\n",
       "<polygon fill=\"none\" stroke=\"#000000\" points=\"447.5,-53 341.5,-53 341.5,0 447.5,0 447.5,-53\"/>\n",
       "<text text-anchor=\"middle\" x=\"394.5\" y=\"-37.8\" font-family=\"Times,serif\" font-size=\"14.00\" fill=\"#000000\">entropy = 0.918</text>\n",
       "<text text-anchor=\"middle\" x=\"394.5\" y=\"-22.8\" font-family=\"Times,serif\" font-size=\"14.00\" fill=\"#000000\">samples = 3</text>\n",
       "<text text-anchor=\"middle\" x=\"394.5\" y=\"-7.8\" font-family=\"Times,serif\" font-size=\"14.00\" fill=\"#000000\">value = [0, 1, 2]</text>\n",
       "</g>\n",
       "<!-- 8&#45;&gt;9 -->\n",
       "<g id=\"edge9\" class=\"edge\">\n",
       "<title>8&#45;&gt;9</title>\n",
       "<path fill=\"none\" stroke=\"#000000\" d=\"M435.936,-88.9777C430.1059,-80.187 423.8169,-70.7044 417.943,-61.8477\"/>\n",
       "<polygon fill=\"#000000\" stroke=\"#000000\" points=\"420.6838,-59.6478 412.2399,-53.2485 414.8502,-63.5167 420.6838,-59.6478\"/>\n",
       "</g>\n",
       "<!-- 10 -->\n",
       "<g id=\"node11\" class=\"node\">\n",
       "<title>10</title>\n",
       "<polygon fill=\"none\" stroke=\"#000000\" points=\"579,-53 466,-53 466,0 579,0 579,-53\"/>\n",
       "<text text-anchor=\"middle\" x=\"522.5\" y=\"-37.8\" font-family=\"Times,serif\" font-size=\"14.00\" fill=\"#000000\">entropy = 0.0</text>\n",
       "<text text-anchor=\"middle\" x=\"522.5\" y=\"-22.8\" font-family=\"Times,serif\" font-size=\"14.00\" fill=\"#000000\">samples = 32</text>\n",
       "<text text-anchor=\"middle\" x=\"522.5\" y=\"-7.8\" font-family=\"Times,serif\" font-size=\"14.00\" fill=\"#000000\">value = [0, 0, 32]</text>\n",
       "</g>\n",
       "<!-- 8&#45;&gt;10 -->\n",
       "<g id=\"edge10\" class=\"edge\">\n",
       "<title>8&#45;&gt;10</title>\n",
       "<path fill=\"none\" stroke=\"#000000\" d=\"M481.064,-88.9777C486.8941,-80.187 493.1831,-70.7044 499.057,-61.8477\"/>\n",
       "<polygon fill=\"#000000\" stroke=\"#000000\" points=\"502.1498,-63.5167 504.7601,-53.2485 496.3162,-59.6478 502.1498,-63.5167\"/>\n",
       "</g>\n",
       "</g>\n",
       "</svg>\n"
      ],
      "text/plain": [
       "<graphviz.files.Source at 0x7f188128cf70>"
      ]
     },
     "execution_count": 69,
     "metadata": {},
     "output_type": "execute_result"
    }
   ],
   "source": [
    "file = open(\"resources/iris_dtree.dot\", \"r\")\n",
    "text = file.read()\n",
    "Source(text)"
   ]
  },
  {
   "cell_type": "markdown",
   "metadata": {},
   "source": [
    "# Validación cruzada en un árbol de decisión"
   ]
  },
  {
   "cell_type": "markdown",
   "metadata": {},
   "source": [
    "Cross Validation para la poda. Uno de los parámetros que utilizábamos para crear nuestro DecisionTreeClassifier era el **min_samples_split**, el **max_depth**, ... **tenemos que ajustarlos para obtener un clasificador óptimo**.\n",
    "\n",
    "**Por tanto vamos a ir podando el árbol para tener una profundidad óptima y sin tener problemas de overfitting**."
   ]
  },
  {
   "cell_type": "code",
   "execution_count": 70,
   "metadata": {},
   "outputs": [],
   "source": [
    "X = data[predictors]\n",
    "y = data[target]"
   ]
  },
  {
   "cell_type": "code",
   "execution_count": 71,
   "metadata": {},
   "outputs": [
    {
     "data": {
      "text/plain": [
       "DecisionTreeClassifier(criterion='entropy', max_depth=5, min_samples_split=20,\n",
       "                       random_state=42)"
      ]
     },
     "execution_count": 71,
     "metadata": {},
     "output_type": "execute_result"
    }
   ],
   "source": [
    "tree = DecisionTreeClassifier(criterion=\"entropy\", max_depth=5, min_samples_split=20, random_state=42)\n",
    "tree.fit(X, y)"
   ]
  },
  {
   "cell_type": "code",
   "execution_count": 72,
   "metadata": {},
   "outputs": [],
   "source": [
    "# Para implementar la validación cruzada utilizamos sklearn\n",
    "from sklearn.model_selection import KFold"
   ]
  },
  {
   "cell_type": "code",
   "execution_count": 73,
   "metadata": {},
   "outputs": [],
   "source": [
    "# n = nº de elementos que van a ser clasificados\n",
    "# n_folds = nº de validaciones a realizar\n",
    "# shuffle = True si queremos que haga un muestreo aleatorio\n",
    "cv = KFold(n_splits=10, shuffle=True, random_state=42)"
   ]
  },
  {
   "cell_type": "code",
   "execution_count": 74,
   "metadata": {},
   "outputs": [],
   "source": [
    "from sklearn.model_selection import cross_val_score"
   ]
  },
  {
   "cell_type": "code",
   "execution_count": 75,
   "metadata": {},
   "outputs": [
    {
     "data": {
      "text/plain": [
       "array([1.        , 1.        , 1.        , 1.        , 0.93333333,\n",
       "       0.86666667, 0.86666667, 0.93333333, 0.93333333, 0.93333333])"
      ]
     },
     "execution_count": 75,
     "metadata": {},
     "output_type": "execute_result"
    }
   ],
   "source": [
    "import numpy as np\n",
    "scores = cross_val_score(tree, X, y, scoring=\"accuracy\", cv=cv, n_jobs=1)\n",
    "scores"
   ]
  },
  {
   "cell_type": "code",
   "execution_count": 76,
   "metadata": {},
   "outputs": [
    {
     "data": {
      "text/plain": [
       "0.9466666666666667"
      ]
     },
     "execution_count": 76,
     "metadata": {},
     "output_type": "execute_result"
    }
   ],
   "source": [
    "score = np.mean(scores)\n",
    "score"
   ]
  },
  {
   "cell_type": "markdown",
   "metadata": {},
   "source": [
    "Hemos obtenido una eficacia muy alta"
   ]
  },
  {
   "cell_type": "code",
   "execution_count": 77,
   "metadata": {},
   "outputs": [
    {
     "name": "stdout",
     "output_type": "stream",
     "text": [
      "Score para i =  1  es de  0.6066666666666667\n",
      "Score para i =  2  es de  0.9466666666666667\n",
      "Score para i =  3  es de  0.9533333333333334\n",
      "Score para i =  4  es de  0.9466666666666667\n",
      "Score para i =  5  es de  0.9466666666666667\n",
      "Score para i =  6  es de  0.9466666666666667\n",
      "Score para i =  7  es de  0.9466666666666667\n",
      "Score para i =  8  es de  0.9466666666666667\n",
      "Score para i =  9  es de  0.9466666666666667\n",
      "Score para i =  10  es de  0.9466666666666667\n"
     ]
    }
   ],
   "source": [
    "# Variemos la profundidad del árbol y veamos el resultado\n",
    "for i in range(1, 11):\n",
    "    tree = DecisionTreeClassifier(criterion=\"entropy\", max_depth=i, min_samples_split=20, random_state=42)\n",
    "    tree.fit(X, y)\n",
    "    cv = KFold(n_splits=10, shuffle=True, random_state=42)\n",
    "    scores = cross_val_score(tree, X, y, scoring=\"accuracy\", cv=cv, n_jobs=1)\n",
    "    score = np.mean(scores)\n",
    "    print(\"Score para i = \", i, \" es de \", score)"
   ]
  },
  {
   "cell_type": "markdown",
   "metadata": {},
   "source": [
    "Podemos ver que la clasificación con mejor performance es para i = 3"
   ]
  },
  {
   "cell_type": "markdown",
   "metadata": {},
   "source": [
    "# Clasificación de variables por importancia\n",
    "\n",
    "Podemos ver cuáles de las variables predictoras tiene más peso a la hora de generar la clasificación. Se trata de agregar un print con **tree.feature_importances_**"
   ]
  },
  {
   "cell_type": "code",
   "execution_count": 78,
   "metadata": {},
   "outputs": [
    {
     "name": "stdout",
     "output_type": "stream",
     "text": [
      "Score para i =  1  es de  0.6066666666666667\n",
      "      [0. 0. 1. 0.]\n",
      "Score para i =  2  es de  0.9466666666666667\n",
      "      [0.         0.         0.66620285 0.33379715]\n",
      "Score para i =  3  es de  0.9533333333333334\n",
      "      [0.         0.         0.68976981 0.31023019]\n",
      "Score para i =  4  es de  0.9466666666666667\n",
      "      [0.         0.         0.66869158 0.33130842]\n",
      "Score para i =  5  es de  0.9466666666666667\n",
      "      [0.         0.         0.66869158 0.33130842]\n",
      "Score para i =  6  es de  0.9466666666666667\n",
      "      [0.         0.         0.66869158 0.33130842]\n",
      "Score para i =  7  es de  0.9466666666666667\n",
      "      [0.         0.         0.66869158 0.33130842]\n",
      "Score para i =  8  es de  0.9466666666666667\n",
      "      [0.         0.         0.66869158 0.33130842]\n",
      "Score para i =  9  es de  0.9466666666666667\n",
      "      [0.         0.         0.66869158 0.33130842]\n",
      "Score para i =  10  es de  0.9466666666666667\n",
      "      [0.         0.         0.66869158 0.33130842]\n"
     ]
    }
   ],
   "source": [
    "for i in range(1, 11):\n",
    "    tree = DecisionTreeClassifier(criterion=\"entropy\", max_depth=i, min_samples_split=20, random_state=42)\n",
    "    tree.fit(X, y)\n",
    "    cv = KFold(n_splits=10, shuffle=True, random_state=42)\n",
    "    scores = cross_val_score(tree, X, y, scoring=\"accuracy\", cv=cv, n_jobs=1)\n",
    "    score = np.mean(scores)\n",
    "    print(\"Score para i = \", i, \" es de \", score)\n",
    "    print(\"     \", tree.feature_importances_)"
   ]
  },
  {
   "cell_type": "code",
   "execution_count": 79,
   "metadata": {},
   "outputs": [
    {
     "data": {
      "text/plain": [
       "array(['Sepal.Length', 'Sepal.Width', 'Petal.Length', 'Petal.Width'],\n",
       "      dtype=object)"
      ]
     },
     "execution_count": 79,
     "metadata": {},
     "output_type": "execute_result"
    }
   ],
   "source": [
    "predictors"
   ]
  },
  {
   "cell_type": "markdown",
   "metadata": {},
   "source": [
    "**Vemos que para i=3, el 0.68% de la información se la lleva Petal.Length y el 0.31% se la lleva Petal.Width**"
   ]
  },
  {
   "cell_type": "markdown",
   "metadata": {},
   "source": [
    "# Árboles de regresión\n",
    "\n",
    "Se tratan cuando tenemos variables numéricas continuas. Se trataría de definir subconjuntos o umbrales entre los valores de las distintas variables.\n",
    "\n",
    "<img src=\"img/img_999(041).png\" width=650/>\n",
    "\n",
    "<img src=\"img/img_999(042).png\" width=650/>\n",
    "\n",
    "## Ventajas\n",
    "\n",
    "<img src=\"img/img_999(043).png\" width=650/>"
   ]
  },
  {
   "cell_type": "markdown",
   "metadata": {},
   "source": [
    "# Ejemplo de árbol de regresión"
   ]
  },
  {
   "cell_type": "markdown",
   "metadata": {},
   "source": [
    "Cargamos el dataset de las casas de Boston. La mayoría de las variables son continuas y la variable objetivo también es continua."
   ]
  },
  {
   "cell_type": "code",
   "execution_count": 80,
   "metadata": {},
   "outputs": [],
   "source": [
    "import pandas as pd"
   ]
  },
  {
   "cell_type": "code",
   "execution_count": 81,
   "metadata": {},
   "outputs": [
    {
     "data": {
      "text/html": [
       "<div>\n",
       "<style scoped>\n",
       "    .dataframe tbody tr th:only-of-type {\n",
       "        vertical-align: middle;\n",
       "    }\n",
       "\n",
       "    .dataframe tbody tr th {\n",
       "        vertical-align: top;\n",
       "    }\n",
       "\n",
       "    .dataframe thead th {\n",
       "        text-align: right;\n",
       "    }\n",
       "</style>\n",
       "<table border=\"1\" class=\"dataframe\">\n",
       "  <thead>\n",
       "    <tr style=\"text-align: right;\">\n",
       "      <th></th>\n",
       "      <th>crim</th>\n",
       "      <th>zn</th>\n",
       "      <th>indus</th>\n",
       "      <th>chas</th>\n",
       "      <th>nox</th>\n",
       "      <th>rm</th>\n",
       "      <th>age</th>\n",
       "      <th>dis</th>\n",
       "      <th>rad</th>\n",
       "      <th>tax</th>\n",
       "      <th>ptratio</th>\n",
       "      <th>black</th>\n",
       "      <th>lstat</th>\n",
       "      <th>medv</th>\n",
       "    </tr>\n",
       "  </thead>\n",
       "  <tbody>\n",
       "    <tr>\n",
       "      <th>0</th>\n",
       "      <td>0.00632</td>\n",
       "      <td>18.0</td>\n",
       "      <td>2.31</td>\n",
       "      <td>0</td>\n",
       "      <td>0.538</td>\n",
       "      <td>6.575</td>\n",
       "      <td>65.2</td>\n",
       "      <td>4.0900</td>\n",
       "      <td>1</td>\n",
       "      <td>296</td>\n",
       "      <td>15.3</td>\n",
       "      <td>396.90</td>\n",
       "      <td>4.98</td>\n",
       "      <td>24.0</td>\n",
       "    </tr>\n",
       "    <tr>\n",
       "      <th>1</th>\n",
       "      <td>0.02731</td>\n",
       "      <td>0.0</td>\n",
       "      <td>7.07</td>\n",
       "      <td>0</td>\n",
       "      <td>0.469</td>\n",
       "      <td>6.421</td>\n",
       "      <td>78.9</td>\n",
       "      <td>4.9671</td>\n",
       "      <td>2</td>\n",
       "      <td>242</td>\n",
       "      <td>17.8</td>\n",
       "      <td>396.90</td>\n",
       "      <td>9.14</td>\n",
       "      <td>21.6</td>\n",
       "    </tr>\n",
       "    <tr>\n",
       "      <th>2</th>\n",
       "      <td>0.02729</td>\n",
       "      <td>0.0</td>\n",
       "      <td>7.07</td>\n",
       "      <td>0</td>\n",
       "      <td>0.469</td>\n",
       "      <td>7.185</td>\n",
       "      <td>61.1</td>\n",
       "      <td>4.9671</td>\n",
       "      <td>2</td>\n",
       "      <td>242</td>\n",
       "      <td>17.8</td>\n",
       "      <td>392.83</td>\n",
       "      <td>4.03</td>\n",
       "      <td>34.7</td>\n",
       "    </tr>\n",
       "    <tr>\n",
       "      <th>3</th>\n",
       "      <td>0.03237</td>\n",
       "      <td>0.0</td>\n",
       "      <td>2.18</td>\n",
       "      <td>0</td>\n",
       "      <td>0.458</td>\n",
       "      <td>6.998</td>\n",
       "      <td>45.8</td>\n",
       "      <td>6.0622</td>\n",
       "      <td>3</td>\n",
       "      <td>222</td>\n",
       "      <td>18.7</td>\n",
       "      <td>394.63</td>\n",
       "      <td>2.94</td>\n",
       "      <td>33.4</td>\n",
       "    </tr>\n",
       "    <tr>\n",
       "      <th>4</th>\n",
       "      <td>0.06905</td>\n",
       "      <td>0.0</td>\n",
       "      <td>2.18</td>\n",
       "      <td>0</td>\n",
       "      <td>0.458</td>\n",
       "      <td>7.147</td>\n",
       "      <td>54.2</td>\n",
       "      <td>6.0622</td>\n",
       "      <td>3</td>\n",
       "      <td>222</td>\n",
       "      <td>18.7</td>\n",
       "      <td>396.90</td>\n",
       "      <td>5.33</td>\n",
       "      <td>36.2</td>\n",
       "    </tr>\n",
       "  </tbody>\n",
       "</table>\n",
       "</div>"
      ],
      "text/plain": [
       "      crim    zn  indus  chas    nox     rm   age     dis  rad  tax  ptratio  \\\n",
       "0  0.00632  18.0   2.31     0  0.538  6.575  65.2  4.0900    1  296     15.3   \n",
       "1  0.02731   0.0   7.07     0  0.469  6.421  78.9  4.9671    2  242     17.8   \n",
       "2  0.02729   0.0   7.07     0  0.469  7.185  61.1  4.9671    2  242     17.8   \n",
       "3  0.03237   0.0   2.18     0  0.458  6.998  45.8  6.0622    3  222     18.7   \n",
       "4  0.06905   0.0   2.18     0  0.458  7.147  54.2  6.0622    3  222     18.7   \n",
       "\n",
       "    black  lstat  medv  \n",
       "0  396.90   4.98  24.0  \n",
       "1  396.90   9.14  21.6  \n",
       "2  392.83   4.03  34.7  \n",
       "3  394.63   2.94  33.4  \n",
       "4  396.90   5.33  36.2  "
      ]
     },
     "execution_count": 81,
     "metadata": {},
     "output_type": "execute_result"
    }
   ],
   "source": [
    "data = pd.read_csv(\"datasets/boston/Boston.csv\")\n",
    "data.head()"
   ]
  },
  {
   "cell_type": "code",
   "execution_count": 82,
   "metadata": {},
   "outputs": [
    {
     "data": {
      "text/plain": [
       "(506, 14)"
      ]
     },
     "execution_count": 82,
     "metadata": {},
     "output_type": "execute_result"
    }
   ],
   "source": [
    "data.shape"
   ]
  },
  {
   "cell_type": "code",
   "execution_count": 83,
   "metadata": {},
   "outputs": [],
   "source": [
    "# Definimos nuestros conjuntos X e y\n",
    "colnames = data.columns.values\n",
    "predictors = colnames[:13]\n",
    "target = colnames[13]\n",
    "X = data[predictors]\n",
    "y = data[target]"
   ]
  },
  {
   "cell_type": "code",
   "execution_count": 84,
   "metadata": {},
   "outputs": [],
   "source": [
    "from sklearn.tree import DecisionTreeRegressor  # Vemos que tomamos Regressor"
   ]
  },
  {
   "cell_type": "code",
   "execution_count": 85,
   "metadata": {},
   "outputs": [
    {
     "data": {
      "text/plain": [
       "DecisionTreeRegressor(min_samples_leaf=10, min_samples_split=30,\n",
       "                      random_state=42)"
      ]
     },
     "execution_count": 85,
     "metadata": {},
     "output_type": "execute_result"
    }
   ],
   "source": [
    "regtree = DecisionTreeRegressor(min_samples_split=30, min_samples_leaf=10, random_state=42)\n",
    "regtree.fit(X, y)"
   ]
  },
  {
   "cell_type": "markdown",
   "metadata": {},
   "source": [
    "## Realicemos algunas predicciones y evaluemos el modelo"
   ]
  },
  {
   "cell_type": "code",
   "execution_count": 86,
   "metadata": {},
   "outputs": [],
   "source": [
    "preds = regtree.predict(data[predictors])\n",
    "data[\"preds\"] = preds"
   ]
  },
  {
   "cell_type": "code",
   "execution_count": 87,
   "metadata": {},
   "outputs": [
    {
     "data": {
      "text/html": [
       "<div>\n",
       "<style scoped>\n",
       "    .dataframe tbody tr th:only-of-type {\n",
       "        vertical-align: middle;\n",
       "    }\n",
       "\n",
       "    .dataframe tbody tr th {\n",
       "        vertical-align: top;\n",
       "    }\n",
       "\n",
       "    .dataframe thead th {\n",
       "        text-align: right;\n",
       "    }\n",
       "</style>\n",
       "<table border=\"1\" class=\"dataframe\">\n",
       "  <thead>\n",
       "    <tr style=\"text-align: right;\">\n",
       "      <th></th>\n",
       "      <th>preds</th>\n",
       "      <th>medv</th>\n",
       "    </tr>\n",
       "  </thead>\n",
       "  <tbody>\n",
       "    <tr>\n",
       "      <th>0</th>\n",
       "      <td>22.840000</td>\n",
       "      <td>24.0</td>\n",
       "    </tr>\n",
       "    <tr>\n",
       "      <th>1</th>\n",
       "      <td>22.840000</td>\n",
       "      <td>21.6</td>\n",
       "    </tr>\n",
       "    <tr>\n",
       "      <th>2</th>\n",
       "      <td>35.247826</td>\n",
       "      <td>34.7</td>\n",
       "    </tr>\n",
       "    <tr>\n",
       "      <th>3</th>\n",
       "      <td>35.247826</td>\n",
       "      <td>33.4</td>\n",
       "    </tr>\n",
       "    <tr>\n",
       "      <th>4</th>\n",
       "      <td>35.247826</td>\n",
       "      <td>36.2</td>\n",
       "    </tr>\n",
       "    <tr>\n",
       "      <th>...</th>\n",
       "      <td>...</td>\n",
       "      <td>...</td>\n",
       "    </tr>\n",
       "    <tr>\n",
       "      <th>501</th>\n",
       "      <td>22.840000</td>\n",
       "      <td>22.4</td>\n",
       "    </tr>\n",
       "    <tr>\n",
       "      <th>502</th>\n",
       "      <td>20.624138</td>\n",
       "      <td>20.6</td>\n",
       "    </tr>\n",
       "    <tr>\n",
       "      <th>503</th>\n",
       "      <td>28.978261</td>\n",
       "      <td>23.9</td>\n",
       "    </tr>\n",
       "    <tr>\n",
       "      <th>504</th>\n",
       "      <td>31.170000</td>\n",
       "      <td>22.0</td>\n",
       "    </tr>\n",
       "    <tr>\n",
       "      <th>505</th>\n",
       "      <td>20.624138</td>\n",
       "      <td>11.9</td>\n",
       "    </tr>\n",
       "  </tbody>\n",
       "</table>\n",
       "<p>506 rows × 2 columns</p>\n",
       "</div>"
      ],
      "text/plain": [
       "         preds  medv\n",
       "0    22.840000  24.0\n",
       "1    22.840000  21.6\n",
       "2    35.247826  34.7\n",
       "3    35.247826  33.4\n",
       "4    35.247826  36.2\n",
       "..         ...   ...\n",
       "501  22.840000  22.4\n",
       "502  20.624138  20.6\n",
       "503  28.978261  23.9\n",
       "504  31.170000  22.0\n",
       "505  20.624138  11.9\n",
       "\n",
       "[506 rows x 2 columns]"
      ]
     },
     "execution_count": 87,
     "metadata": {},
     "output_type": "execute_result"
    }
   ],
   "source": [
    "# Comparemos\n",
    "data[[\"preds\", \"medv\"]]"
   ]
  },
  {
   "cell_type": "markdown",
   "metadata": {},
   "source": [
    "Vemos que la predicción coincide porque la *y* cae en el mismo nodo hoja. Estudiemos ahora la representación del árbol."
   ]
  },
  {
   "cell_type": "code",
   "execution_count": 88,
   "metadata": {},
   "outputs": [
    {
     "data": {
      "image/svg+xml": [
       "<?xml version=\"1.0\" encoding=\"UTF-8\" standalone=\"no\"?>\n",
       "<!DOCTYPE svg PUBLIC \"-//W3C//DTD SVG 1.1//EN\"\n",
       " \"http://www.w3.org/Graphics/SVG/1.1/DTD/svg11.dtd\">\n",
       "<!-- Generated by graphviz version 2.40.1 (20161225.0304)\n",
       " -->\n",
       "<!-- Title: Tree Pages: 1 -->\n",
       "<svg width=\"1506pt\" height=\"1101pt\"\n",
       " viewBox=\"0.00 0.00 1506.00 1101.00\" xmlns=\"http://www.w3.org/2000/svg\" xmlns:xlink=\"http://www.w3.org/1999/xlink\">\n",
       "<g id=\"graph0\" class=\"graph\" transform=\"scale(1 1) rotate(0) translate(4 1097)\">\n",
       "<title>Tree</title>\n",
       "<polygon fill=\"#ffffff\" stroke=\"transparent\" points=\"-4,4 -4,-1097 1502,-1097 1502,4 -4,4\"/>\n",
       "<!-- 0 -->\n",
       "<g id=\"node1\" class=\"node\">\n",
       "<title>0</title>\n",
       "<polygon fill=\"none\" stroke=\"#000000\" points=\"1088,-1093 989,-1093 989,-1025 1088,-1025 1088,-1093\"/>\n",
       "<text text-anchor=\"middle\" x=\"1038.5\" y=\"-1077.8\" font-family=\"Times,serif\" font-size=\"14.00\" fill=\"#000000\">rm &lt;= 6.941</text>\n",
       "<text text-anchor=\"middle\" x=\"1038.5\" y=\"-1062.8\" font-family=\"Times,serif\" font-size=\"14.00\" fill=\"#000000\">mse = 84.42</text>\n",
       "<text text-anchor=\"middle\" x=\"1038.5\" y=\"-1047.8\" font-family=\"Times,serif\" font-size=\"14.00\" fill=\"#000000\">samples = 506</text>\n",
       "<text text-anchor=\"middle\" x=\"1038.5\" y=\"-1032.8\" font-family=\"Times,serif\" font-size=\"14.00\" fill=\"#000000\">value = 22.533</text>\n",
       "</g>\n",
       "<!-- 1 -->\n",
       "<g id=\"node2\" class=\"node\">\n",
       "<title>1</title>\n",
       "<polygon fill=\"none\" stroke=\"#000000\" points=\"971,-989 872,-989 872,-921 971,-921 971,-989\"/>\n",
       "<text text-anchor=\"middle\" x=\"921.5\" y=\"-973.8\" font-family=\"Times,serif\" font-size=\"14.00\" fill=\"#000000\">lstat &lt;= 14.4</text>\n",
       "<text text-anchor=\"middle\" x=\"921.5\" y=\"-958.8\" font-family=\"Times,serif\" font-size=\"14.00\" fill=\"#000000\">mse = 40.273</text>\n",
       "<text text-anchor=\"middle\" x=\"921.5\" y=\"-943.8\" font-family=\"Times,serif\" font-size=\"14.00\" fill=\"#000000\">samples = 430</text>\n",
       "<text text-anchor=\"middle\" x=\"921.5\" y=\"-928.8\" font-family=\"Times,serif\" font-size=\"14.00\" fill=\"#000000\">value = 19.934</text>\n",
       "</g>\n",
       "<!-- 0&#45;&gt;1 -->\n",
       "<g id=\"edge1\" class=\"edge\">\n",
       "<title>0&#45;&gt;1</title>\n",
       "<path fill=\"none\" stroke=\"#000000\" d=\"M1000.1898,-1024.9465C989.7859,-1015.6986 978.411,-1005.5876 967.6243,-995.9994\"/>\n",
       "<polygon fill=\"#000000\" stroke=\"#000000\" points=\"969.6956,-993.1577 959.8962,-989.13 965.0451,-998.3896 969.6956,-993.1577\"/>\n",
       "<text text-anchor=\"middle\" x=\"961.3643\" y=\"-1010.3869\" font-family=\"Times,serif\" font-size=\"14.00\" fill=\"#000000\">True</text>\n",
       "</g>\n",
       "<!-- 48 -->\n",
       "<g id=\"node49\" class=\"node\">\n",
       "<title>48</title>\n",
       "<polygon fill=\"none\" stroke=\"#000000\" points=\"1205,-989 1106,-989 1106,-921 1205,-921 1205,-989\"/>\n",
       "<text text-anchor=\"middle\" x=\"1155.5\" y=\"-973.8\" font-family=\"Times,serif\" font-size=\"14.00\" fill=\"#000000\">rm &lt;= 7.437</text>\n",
       "<text text-anchor=\"middle\" x=\"1155.5\" y=\"-958.8\" font-family=\"Times,serif\" font-size=\"14.00\" fill=\"#000000\">mse = 79.729</text>\n",
       "<text text-anchor=\"middle\" x=\"1155.5\" y=\"-943.8\" font-family=\"Times,serif\" font-size=\"14.00\" fill=\"#000000\">samples = 76</text>\n",
       "<text text-anchor=\"middle\" x=\"1155.5\" y=\"-928.8\" font-family=\"Times,serif\" font-size=\"14.00\" fill=\"#000000\">value = 37.238</text>\n",
       "</g>\n",
       "<!-- 0&#45;&gt;48 -->\n",
       "<g id=\"edge48\" class=\"edge\">\n",
       "<title>0&#45;&gt;48</title>\n",
       "<path fill=\"none\" stroke=\"#000000\" d=\"M1076.8102,-1024.9465C1087.2141,-1015.6986 1098.589,-1005.5876 1109.3757,-995.9994\"/>\n",
       "<polygon fill=\"#000000\" stroke=\"#000000\" points=\"1111.9549,-998.3896 1117.1038,-989.13 1107.3044,-993.1577 1111.9549,-998.3896\"/>\n",
       "<text text-anchor=\"middle\" x=\"1115.6357\" y=\"-1010.3869\" font-family=\"Times,serif\" font-size=\"14.00\" fill=\"#000000\">False</text>\n",
       "</g>\n",
       "<!-- 2 -->\n",
       "<g id=\"node3\" class=\"node\">\n",
       "<title>2</title>\n",
       "<polygon fill=\"none\" stroke=\"#000000\" points=\"618,-885 521,-885 521,-817 618,-817 618,-885\"/>\n",
       "<text text-anchor=\"middle\" x=\"569.5\" y=\"-869.8\" font-family=\"Times,serif\" font-size=\"14.00\" fill=\"#000000\">lstat &lt;= 4.91</text>\n",
       "<text text-anchor=\"middle\" x=\"569.5\" y=\"-854.8\" font-family=\"Times,serif\" font-size=\"14.00\" fill=\"#000000\">mse = 26.009</text>\n",
       "<text text-anchor=\"middle\" x=\"569.5\" y=\"-839.8\" font-family=\"Times,serif\" font-size=\"14.00\" fill=\"#000000\">samples = 255</text>\n",
       "<text text-anchor=\"middle\" x=\"569.5\" y=\"-824.8\" font-family=\"Times,serif\" font-size=\"14.00\" fill=\"#000000\">value = 23.35</text>\n",
       "</g>\n",
       "<!-- 1&#45;&gt;2 -->\n",
       "<g id=\"edge2\" class=\"edge\">\n",
       "<title>1&#45;&gt;2</title>\n",
       "<path fill=\"none\" stroke=\"#000000\" d=\"M871.8136,-940.3199C807.6008,-921.348 695.976,-888.3679 627.8156,-868.2296\"/>\n",
       "<polygon fill=\"#000000\" stroke=\"#000000\" points=\"628.6673,-864.8317 618.0853,-865.3548 626.6838,-871.5449 628.6673,-864.8317\"/>\n",
       "</g>\n",
       "<!-- 29 -->\n",
       "<g id=\"node30\" class=\"node\">\n",
       "<title>29</title>\n",
       "<polygon fill=\"none\" stroke=\"#000000\" points=\"971,-885 872,-885 872,-817 971,-817 971,-885\"/>\n",
       "<text text-anchor=\"middle\" x=\"921.5\" y=\"-869.8\" font-family=\"Times,serif\" font-size=\"14.00\" fill=\"#000000\">crim &lt;= 6.992</text>\n",
       "<text text-anchor=\"middle\" x=\"921.5\" y=\"-854.8\" font-family=\"Times,serif\" font-size=\"14.00\" fill=\"#000000\">mse = 19.276</text>\n",
       "<text text-anchor=\"middle\" x=\"921.5\" y=\"-839.8\" font-family=\"Times,serif\" font-size=\"14.00\" fill=\"#000000\">samples = 175</text>\n",
       "<text text-anchor=\"middle\" x=\"921.5\" y=\"-824.8\" font-family=\"Times,serif\" font-size=\"14.00\" fill=\"#000000\">value = 14.956</text>\n",
       "</g>\n",
       "<!-- 1&#45;&gt;29 -->\n",
       "<g id=\"edge29\" class=\"edge\">\n",
       "<title>1&#45;&gt;29</title>\n",
       "<path fill=\"none\" stroke=\"#000000\" d=\"M921.5,-920.9465C921.5,-912.776 921.5,-903.9318 921.5,-895.3697\"/>\n",
       "<polygon fill=\"#000000\" stroke=\"#000000\" points=\"925.0001,-895.13 921.5,-885.13 918.0001,-895.13 925.0001,-895.13\"/>\n",
       "</g>\n",
       "<!-- 3 -->\n",
       "<g id=\"node4\" class=\"node\">\n",
       "<title>3</title>\n",
       "<polygon fill=\"none\" stroke=\"#000000\" points=\"502,-773.5 403,-773.5 403,-720.5 502,-720.5 502,-773.5\"/>\n",
       "<text text-anchor=\"middle\" x=\"452.5\" y=\"-758.3\" font-family=\"Times,serif\" font-size=\"14.00\" fill=\"#000000\">mse = 47.187</text>\n",
       "<text text-anchor=\"middle\" x=\"452.5\" y=\"-743.3\" font-family=\"Times,serif\" font-size=\"14.00\" fill=\"#000000\">samples = 20</text>\n",
       "<text text-anchor=\"middle\" x=\"452.5\" y=\"-728.3\" font-family=\"Times,serif\" font-size=\"14.00\" fill=\"#000000\">value = 31.565</text>\n",
       "</g>\n",
       "<!-- 2&#45;&gt;3 -->\n",
       "<g id=\"edge3\" class=\"edge\">\n",
       "<title>2&#45;&gt;3</title>\n",
       "<path fill=\"none\" stroke=\"#000000\" d=\"M531.1898,-816.9465C517.9306,-805.1606 503.0942,-791.9726 489.9084,-780.2519\"/>\n",
       "<polygon fill=\"#000000\" stroke=\"#000000\" points=\"492.1593,-777.5699 482.3599,-773.5422 487.5088,-782.8018 492.1593,-777.5699\"/>\n",
       "</g>\n",
       "<!-- 4 -->\n",
       "<g id=\"node5\" class=\"node\">\n",
       "<title>4</title>\n",
       "<polygon fill=\"none\" stroke=\"#000000\" points=\"619,-781 520,-781 520,-713 619,-713 619,-781\"/>\n",
       "<text text-anchor=\"middle\" x=\"569.5\" y=\"-765.8\" font-family=\"Times,serif\" font-size=\"14.00\" fill=\"#000000\">lstat &lt;= 9.715</text>\n",
       "<text text-anchor=\"middle\" x=\"569.5\" y=\"-750.8\" font-family=\"Times,serif\" font-size=\"14.00\" fill=\"#000000\">mse = 17.974</text>\n",
       "<text text-anchor=\"middle\" x=\"569.5\" y=\"-735.8\" font-family=\"Times,serif\" font-size=\"14.00\" fill=\"#000000\">samples = 235</text>\n",
       "<text text-anchor=\"middle\" x=\"569.5\" y=\"-720.8\" font-family=\"Times,serif\" font-size=\"14.00\" fill=\"#000000\">value = 22.651</text>\n",
       "</g>\n",
       "<!-- 2&#45;&gt;4 -->\n",
       "<g id=\"edge4\" class=\"edge\">\n",
       "<title>2&#45;&gt;4</title>\n",
       "<path fill=\"none\" stroke=\"#000000\" d=\"M569.5,-816.9465C569.5,-808.776 569.5,-799.9318 569.5,-791.3697\"/>\n",
       "<polygon fill=\"#000000\" stroke=\"#000000\" points=\"573.0001,-791.13 569.5,-781.13 566.0001,-791.13 573.0001,-791.13\"/>\n",
       "</g>\n",
       "<!-- 5 -->\n",
       "<g id=\"node6\" class=\"node\">\n",
       "<title>5</title>\n",
       "<polygon fill=\"none\" stroke=\"#000000\" points=\"443,-677 344,-677 344,-609 443,-609 443,-677\"/>\n",
       "<text text-anchor=\"middle\" x=\"393.5\" y=\"-661.8\" font-family=\"Times,serif\" font-size=\"14.00\" fill=\"#000000\">age &lt;= 87.6</text>\n",
       "<text text-anchor=\"middle\" x=\"393.5\" y=\"-646.8\" font-family=\"Times,serif\" font-size=\"14.00\" fill=\"#000000\">mse = 22.287</text>\n",
       "<text text-anchor=\"middle\" x=\"393.5\" y=\"-631.8\" font-family=\"Times,serif\" font-size=\"14.00\" fill=\"#000000\">samples = 122</text>\n",
       "<text text-anchor=\"middle\" x=\"393.5\" y=\"-616.8\" font-family=\"Times,serif\" font-size=\"14.00\" fill=\"#000000\">value = 24.393</text>\n",
       "</g>\n",
       "<!-- 4&#45;&gt;5 -->\n",
       "<g id=\"edge5\" class=\"edge\">\n",
       "<title>4&#45;&gt;5</title>\n",
       "<path fill=\"none\" stroke=\"#000000\" d=\"M519.5362,-717.476C498.5458,-705.0725 473.9801,-690.5564 452.1396,-677.6507\"/>\n",
       "<polygon fill=\"#000000\" stroke=\"#000000\" points=\"453.6737,-674.4918 443.2839,-672.4177 450.1126,-680.5183 453.6737,-674.4918\"/>\n",
       "</g>\n",
       "<!-- 18 -->\n",
       "<g id=\"node19\" class=\"node\">\n",
       "<title>18</title>\n",
       "<polygon fill=\"none\" stroke=\"#000000\" points=\"623,-677 516,-677 516,-609 623,-609 623,-677\"/>\n",
       "<text text-anchor=\"middle\" x=\"569.5\" y=\"-661.8\" font-family=\"Times,serif\" font-size=\"14.00\" fill=\"#000000\">ptratio &lt;= 17.85</text>\n",
       "<text text-anchor=\"middle\" x=\"569.5\" y=\"-646.8\" font-family=\"Times,serif\" font-size=\"14.00\" fill=\"#000000\">mse = 6.503</text>\n",
       "<text text-anchor=\"middle\" x=\"569.5\" y=\"-631.8\" font-family=\"Times,serif\" font-size=\"14.00\" fill=\"#000000\">samples = 113</text>\n",
       "<text text-anchor=\"middle\" x=\"569.5\" y=\"-616.8\" font-family=\"Times,serif\" font-size=\"14.00\" fill=\"#000000\">value = 20.77</text>\n",
       "</g>\n",
       "<!-- 4&#45;&gt;18 -->\n",
       "<g id=\"edge18\" class=\"edge\">\n",
       "<title>4&#45;&gt;18</title>\n",
       "<path fill=\"none\" stroke=\"#000000\" d=\"M569.5,-712.9465C569.5,-704.776 569.5,-695.9318 569.5,-687.3697\"/>\n",
       "<polygon fill=\"#000000\" stroke=\"#000000\" points=\"573.0001,-687.13 569.5,-677.13 566.0001,-687.13 573.0001,-687.13\"/>\n",
       "</g>\n",
       "<!-- 6 -->\n",
       "<g id=\"node7\" class=\"node\">\n",
       "<title>6</title>\n",
       "<polygon fill=\"none\" stroke=\"#000000\" points=\"328,-573 229,-573 229,-505 328,-505 328,-573\"/>\n",
       "<text text-anchor=\"middle\" x=\"278.5\" y=\"-557.8\" font-family=\"Times,serif\" font-size=\"14.00\" fill=\"#000000\">rm &lt;= 6.125</text>\n",
       "<text text-anchor=\"middle\" x=\"278.5\" y=\"-542.8\" font-family=\"Times,serif\" font-size=\"14.00\" fill=\"#000000\">mse = 11.111</text>\n",
       "<text text-anchor=\"middle\" x=\"278.5\" y=\"-527.8\" font-family=\"Times,serif\" font-size=\"14.00\" fill=\"#000000\">samples = 112</text>\n",
       "<text text-anchor=\"middle\" x=\"278.5\" y=\"-512.8\" font-family=\"Times,serif\" font-size=\"14.00\" fill=\"#000000\">value = 23.788</text>\n",
       "</g>\n",
       "<!-- 5&#45;&gt;6 -->\n",
       "<g id=\"edge6\" class=\"edge\">\n",
       "<title>5&#45;&gt;6</title>\n",
       "<path fill=\"none\" stroke=\"#000000\" d=\"M355.8447,-608.9465C345.6187,-599.6986 334.4382,-589.5876 323.8359,-579.9994\"/>\n",
       "<polygon fill=\"#000000\" stroke=\"#000000\" points=\"326.0044,-577.2416 316.2399,-573.13 321.3092,-582.4334 326.0044,-577.2416\"/>\n",
       "</g>\n",
       "<!-- 17 -->\n",
       "<g id=\"node18\" class=\"node\">\n",
       "<title>17</title>\n",
       "<polygon fill=\"none\" stroke=\"#000000\" points=\"439.5,-565.5 347.5,-565.5 347.5,-512.5 439.5,-512.5 439.5,-565.5\"/>\n",
       "<text text-anchor=\"middle\" x=\"393.5\" y=\"-550.3\" font-family=\"Times,serif\" font-size=\"14.00\" fill=\"#000000\">mse = 97.42</text>\n",
       "<text text-anchor=\"middle\" x=\"393.5\" y=\"-535.3\" font-family=\"Times,serif\" font-size=\"14.00\" fill=\"#000000\">samples = 10</text>\n",
       "<text text-anchor=\"middle\" x=\"393.5\" y=\"-520.3\" font-family=\"Times,serif\" font-size=\"14.00\" fill=\"#000000\">value = 31.17</text>\n",
       "</g>\n",
       "<!-- 5&#45;&gt;17 -->\n",
       "<g id=\"edge17\" class=\"edge\">\n",
       "<title>5&#45;&gt;17</title>\n",
       "<path fill=\"none\" stroke=\"#000000\" d=\"M393.5,-608.9465C393.5,-598.2621 393.5,-586.4254 393.5,-575.5742\"/>\n",
       "<polygon fill=\"#000000\" stroke=\"#000000\" points=\"397.0001,-575.5421 393.5,-565.5422 390.0001,-575.5422 397.0001,-575.5421\"/>\n",
       "</g>\n",
       "<!-- 7 -->\n",
       "<g id=\"node8\" class=\"node\">\n",
       "<title>7</title>\n",
       "<polygon fill=\"none\" stroke=\"#000000\" points=\"211,-461.5 112,-461.5 112,-408.5 211,-408.5 211,-461.5\"/>\n",
       "<text text-anchor=\"middle\" x=\"161.5\" y=\"-446.3\" font-family=\"Times,serif\" font-size=\"14.00\" fill=\"#000000\">mse = 4.865</text>\n",
       "<text text-anchor=\"middle\" x=\"161.5\" y=\"-431.3\" font-family=\"Times,serif\" font-size=\"14.00\" fill=\"#000000\">samples = 29</text>\n",
       "<text text-anchor=\"middle\" x=\"161.5\" y=\"-416.3\" font-family=\"Times,serif\" font-size=\"14.00\" fill=\"#000000\">value = 20.624</text>\n",
       "</g>\n",
       "<!-- 6&#45;&gt;7 -->\n",
       "<g id=\"edge7\" class=\"edge\">\n",
       "<title>6&#45;&gt;7</title>\n",
       "<path fill=\"none\" stroke=\"#000000\" d=\"M240.1898,-504.9465C226.9306,-493.1606 212.0942,-479.9726 198.9084,-468.2519\"/>\n",
       "<polygon fill=\"#000000\" stroke=\"#000000\" points=\"201.1593,-465.5699 191.3599,-461.5422 196.5088,-470.8018 201.1593,-465.5699\"/>\n",
       "</g>\n",
       "<!-- 8 -->\n",
       "<g id=\"node9\" class=\"node\">\n",
       "<title>8</title>\n",
       "<polygon fill=\"none\" stroke=\"#000000\" points=\"328,-469 229,-469 229,-401 328,-401 328,-469\"/>\n",
       "<text text-anchor=\"middle\" x=\"278.5\" y=\"-453.8\" font-family=\"Times,serif\" font-size=\"14.00\" fill=\"#000000\">rm &lt;= 6.611</text>\n",
       "<text text-anchor=\"middle\" x=\"278.5\" y=\"-438.8\" font-family=\"Times,serif\" font-size=\"14.00\" fill=\"#000000\">mse = 8.576</text>\n",
       "<text text-anchor=\"middle\" x=\"278.5\" y=\"-423.8\" font-family=\"Times,serif\" font-size=\"14.00\" fill=\"#000000\">samples = 83</text>\n",
       "<text text-anchor=\"middle\" x=\"278.5\" y=\"-408.8\" font-family=\"Times,serif\" font-size=\"14.00\" fill=\"#000000\">value = 24.893</text>\n",
       "</g>\n",
       "<!-- 6&#45;&gt;8 -->\n",
       "<g id=\"edge8\" class=\"edge\">\n",
       "<title>6&#45;&gt;8</title>\n",
       "<path fill=\"none\" stroke=\"#000000\" d=\"M278.5,-504.9465C278.5,-496.776 278.5,-487.9318 278.5,-479.3697\"/>\n",
       "<polygon fill=\"#000000\" stroke=\"#000000\" points=\"282.0001,-479.13 278.5,-469.13 275.0001,-479.13 282.0001,-479.13\"/>\n",
       "</g>\n",
       "<!-- 9 -->\n",
       "<g id=\"node10\" class=\"node\">\n",
       "<title>9</title>\n",
       "<polygon fill=\"none\" stroke=\"#000000\" points=\"267.5,-365 175.5,-365 175.5,-297 267.5,-297 267.5,-365\"/>\n",
       "<text text-anchor=\"middle\" x=\"221.5\" y=\"-349.8\" font-family=\"Times,serif\" font-size=\"14.00\" fill=\"#000000\">tax &lt;= 332.5</text>\n",
       "<text text-anchor=\"middle\" x=\"221.5\" y=\"-334.8\" font-family=\"Times,serif\" font-size=\"14.00\" fill=\"#000000\">mse = 6.848</text>\n",
       "<text text-anchor=\"middle\" x=\"221.5\" y=\"-319.8\" font-family=\"Times,serif\" font-size=\"14.00\" fill=\"#000000\">samples = 60</text>\n",
       "<text text-anchor=\"middle\" x=\"221.5\" y=\"-304.8\" font-family=\"Times,serif\" font-size=\"14.00\" fill=\"#000000\">value = 23.99</text>\n",
       "</g>\n",
       "<!-- 8&#45;&gt;9 -->\n",
       "<g id=\"edge9\" class=\"edge\">\n",
       "<title>8&#45;&gt;9</title>\n",
       "<path fill=\"none\" stroke=\"#000000\" d=\"M259.8361,-400.9465C255.112,-392.3271 249.9769,-382.9579 245.046,-373.9611\"/>\n",
       "<polygon fill=\"#000000\" stroke=\"#000000\" points=\"248.0814,-372.2171 240.2059,-365.13 241.9429,-375.5815 248.0814,-372.2171\"/>\n",
       "</g>\n",
       "<!-- 16 -->\n",
       "<g id=\"node17\" class=\"node\">\n",
       "<title>16</title>\n",
       "<polygon fill=\"none\" stroke=\"#000000\" points=\"385,-357.5 286,-357.5 286,-304.5 385,-304.5 385,-357.5\"/>\n",
       "<text text-anchor=\"middle\" x=\"335.5\" y=\"-342.3\" font-family=\"Times,serif\" font-size=\"14.00\" fill=\"#000000\">mse = 5.413</text>\n",
       "<text text-anchor=\"middle\" x=\"335.5\" y=\"-327.3\" font-family=\"Times,serif\" font-size=\"14.00\" fill=\"#000000\">samples = 23</text>\n",
       "<text text-anchor=\"middle\" x=\"335.5\" y=\"-312.3\" font-family=\"Times,serif\" font-size=\"14.00\" fill=\"#000000\">value = 27.248</text>\n",
       "</g>\n",
       "<!-- 8&#45;&gt;16 -->\n",
       "<g id=\"edge16\" class=\"edge\">\n",
       "<title>8&#45;&gt;16</title>\n",
       "<path fill=\"none\" stroke=\"#000000\" d=\"M297.1639,-400.9465C303.2009,-389.9316 309.9091,-377.6922 316.0047,-366.5703\"/>\n",
       "<polygon fill=\"#000000\" stroke=\"#000000\" points=\"319.2158,-367.9936 320.9529,-357.5422 313.0773,-364.6292 319.2158,-367.9936\"/>\n",
       "</g>\n",
       "<!-- 10 -->\n",
       "<g id=\"node11\" class=\"node\">\n",
       "<title>10</title>\n",
       "<polygon fill=\"none\" stroke=\"#000000\" points=\"214,-261 115,-261 115,-193 214,-193 214,-261\"/>\n",
       "<text text-anchor=\"middle\" x=\"164.5\" y=\"-245.8\" font-family=\"Times,serif\" font-size=\"14.00\" fill=\"#000000\">age &lt;= 63.7</text>\n",
       "<text text-anchor=\"middle\" x=\"164.5\" y=\"-230.8\" font-family=\"Times,serif\" font-size=\"14.00\" fill=\"#000000\">mse = 6.345</text>\n",
       "<text text-anchor=\"middle\" x=\"164.5\" y=\"-215.8\" font-family=\"Times,serif\" font-size=\"14.00\" fill=\"#000000\">samples = 50</text>\n",
       "<text text-anchor=\"middle\" x=\"164.5\" y=\"-200.8\" font-family=\"Times,serif\" font-size=\"14.00\" fill=\"#000000\">value = 24.366</text>\n",
       "</g>\n",
       "<!-- 9&#45;&gt;10 -->\n",
       "<g id=\"edge10\" class=\"edge\">\n",
       "<title>9&#45;&gt;10</title>\n",
       "<path fill=\"none\" stroke=\"#000000\" d=\"M202.8361,-296.9465C198.112,-288.3271 192.9769,-278.9579 188.046,-269.9611\"/>\n",
       "<polygon fill=\"#000000\" stroke=\"#000000\" points=\"191.0814,-268.2171 183.2059,-261.13 184.9429,-271.5815 191.0814,-268.2171\"/>\n",
       "</g>\n",
       "<!-- 15 -->\n",
       "<g id=\"node16\" class=\"node\">\n",
       "<title>15</title>\n",
       "<polygon fill=\"none\" stroke=\"#000000\" points=\"324.5,-253.5 232.5,-253.5 232.5,-200.5 324.5,-200.5 324.5,-253.5\"/>\n",
       "<text text-anchor=\"middle\" x=\"278.5\" y=\"-238.3\" font-family=\"Times,serif\" font-size=\"14.00\" fill=\"#000000\">mse = 5.119</text>\n",
       "<text text-anchor=\"middle\" x=\"278.5\" y=\"-223.3\" font-family=\"Times,serif\" font-size=\"14.00\" fill=\"#000000\">samples = 10</text>\n",
       "<text text-anchor=\"middle\" x=\"278.5\" y=\"-208.3\" font-family=\"Times,serif\" font-size=\"14.00\" fill=\"#000000\">value = 22.11</text>\n",
       "</g>\n",
       "<!-- 9&#45;&gt;15 -->\n",
       "<g id=\"edge15\" class=\"edge\">\n",
       "<title>9&#45;&gt;15</title>\n",
       "<path fill=\"none\" stroke=\"#000000\" d=\"M240.1639,-296.9465C246.2009,-285.9316 252.9091,-273.6922 259.0047,-262.5703\"/>\n",
       "<polygon fill=\"#000000\" stroke=\"#000000\" points=\"262.2158,-263.9936 263.9529,-253.5422 256.0773,-260.6292 262.2158,-263.9936\"/>\n",
       "</g>\n",
       "<!-- 11 -->\n",
       "<g id=\"node12\" class=\"node\">\n",
       "<title>11</title>\n",
       "<polygon fill=\"none\" stroke=\"#000000\" points=\"157,-157 58,-157 58,-89 157,-89 157,-157\"/>\n",
       "<text text-anchor=\"middle\" x=\"107.5\" y=\"-141.8\" font-family=\"Times,serif\" font-size=\"14.00\" fill=\"#000000\">dis &lt;= 4.631</text>\n",
       "<text text-anchor=\"middle\" x=\"107.5\" y=\"-126.8\" font-family=\"Times,serif\" font-size=\"14.00\" fill=\"#000000\">mse = 6.944</text>\n",
       "<text text-anchor=\"middle\" x=\"107.5\" y=\"-111.8\" font-family=\"Times,serif\" font-size=\"14.00\" fill=\"#000000\">samples = 40</text>\n",
       "<text text-anchor=\"middle\" x=\"107.5\" y=\"-96.8\" font-family=\"Times,serif\" font-size=\"14.00\" fill=\"#000000\">value = 24.748</text>\n",
       "</g>\n",
       "<!-- 10&#45;&gt;11 -->\n",
       "<g id=\"edge11\" class=\"edge\">\n",
       "<title>10&#45;&gt;11</title>\n",
       "<path fill=\"none\" stroke=\"#000000\" d=\"M145.8361,-192.9465C141.112,-184.3271 135.9769,-174.9579 131.046,-165.9611\"/>\n",
       "<polygon fill=\"#000000\" stroke=\"#000000\" points=\"134.0814,-164.2171 126.2059,-157.13 127.9429,-167.5815 134.0814,-164.2171\"/>\n",
       "</g>\n",
       "<!-- 14 -->\n",
       "<g id=\"node15\" class=\"node\">\n",
       "<title>14</title>\n",
       "<polygon fill=\"none\" stroke=\"#000000\" points=\"267.5,-149.5 175.5,-149.5 175.5,-96.5 267.5,-96.5 267.5,-149.5\"/>\n",
       "<text text-anchor=\"middle\" x=\"221.5\" y=\"-134.3\" font-family=\"Times,serif\" font-size=\"14.00\" fill=\"#000000\">mse = 1.038</text>\n",
       "<text text-anchor=\"middle\" x=\"221.5\" y=\"-119.3\" font-family=\"Times,serif\" font-size=\"14.00\" fill=\"#000000\">samples = 10</text>\n",
       "<text text-anchor=\"middle\" x=\"221.5\" y=\"-104.3\" font-family=\"Times,serif\" font-size=\"14.00\" fill=\"#000000\">value = 22.84</text>\n",
       "</g>\n",
       "<!-- 10&#45;&gt;14 -->\n",
       "<g id=\"edge14\" class=\"edge\">\n",
       "<title>10&#45;&gt;14</title>\n",
       "<path fill=\"none\" stroke=\"#000000\" d=\"M183.1639,-192.9465C189.2009,-181.9316 195.9091,-169.6922 202.0047,-158.5703\"/>\n",
       "<polygon fill=\"#000000\" stroke=\"#000000\" points=\"205.2158,-159.9936 206.9529,-149.5422 199.0773,-156.6292 205.2158,-159.9936\"/>\n",
       "</g>\n",
       "<!-- 12 -->\n",
       "<g id=\"node13\" class=\"node\">\n",
       "<title>12</title>\n",
       "<polygon fill=\"none\" stroke=\"#000000\" points=\"99,-53 0,-53 0,0 99,0 99,-53\"/>\n",
       "<text text-anchor=\"middle\" x=\"49.5\" y=\"-37.8\" font-family=\"Times,serif\" font-size=\"14.00\" fill=\"#000000\">mse = 14.017</text>\n",
       "<text text-anchor=\"middle\" x=\"49.5\" y=\"-22.8\" font-family=\"Times,serif\" font-size=\"14.00\" fill=\"#000000\">samples = 11</text>\n",
       "<text text-anchor=\"middle\" x=\"49.5\" y=\"-7.8\" font-family=\"Times,serif\" font-size=\"14.00\" fill=\"#000000\">value = 26.564</text>\n",
       "</g>\n",
       "<!-- 11&#45;&gt;12 -->\n",
       "<g id=\"edge12\" class=\"edge\">\n",
       "<title>11&#45;&gt;12</title>\n",
       "<path fill=\"none\" stroke=\"#000000\" d=\"M87.0514,-88.9777C81.7678,-80.187 76.0684,-70.7044 70.7452,-61.8477\"/>\n",
       "<polygon fill=\"#000000\" stroke=\"#000000\" points=\"73.7282,-60.0165 65.5768,-53.2485 67.7285,-63.6225 73.7282,-60.0165\"/>\n",
       "</g>\n",
       "<!-- 13 -->\n",
       "<g id=\"node14\" class=\"node\">\n",
       "<title>13</title>\n",
       "<polygon fill=\"none\" stroke=\"#000000\" points=\"216,-53 117,-53 117,0 216,0 216,-53\"/>\n",
       "<text text-anchor=\"middle\" x=\"166.5\" y=\"-37.8\" font-family=\"Times,serif\" font-size=\"14.00\" fill=\"#000000\">mse = 2.536</text>\n",
       "<text text-anchor=\"middle\" x=\"166.5\" y=\"-22.8\" font-family=\"Times,serif\" font-size=\"14.00\" fill=\"#000000\">samples = 29</text>\n",
       "<text text-anchor=\"middle\" x=\"166.5\" y=\"-7.8\" font-family=\"Times,serif\" font-size=\"14.00\" fill=\"#000000\">value = 24.059</text>\n",
       "</g>\n",
       "<!-- 11&#45;&gt;13 -->\n",
       "<g id=\"edge13\" class=\"edge\">\n",
       "<title>11&#45;&gt;13</title>\n",
       "<path fill=\"none\" stroke=\"#000000\" d=\"M128.3012,-88.9777C133.6758,-80.187 139.4735,-70.7044 144.8885,-61.8477\"/>\n",
       "<polygon fill=\"#000000\" stroke=\"#000000\" points=\"147.9158,-63.6059 150.146,-53.2485 141.9436,-59.9545 147.9158,-63.6059\"/>\n",
       "</g>\n",
       "<!-- 19 -->\n",
       "<g id=\"node20\" class=\"node\">\n",
       "<title>19</title>\n",
       "<polygon fill=\"none\" stroke=\"#000000\" points=\"560,-573 461,-573 461,-505 560,-505 560,-573\"/>\n",
       "<text text-anchor=\"middle\" x=\"510.5\" y=\"-557.8\" font-family=\"Times,serif\" font-size=\"14.00\" fill=\"#000000\">tax &lt;= 309.0</text>\n",
       "<text text-anchor=\"middle\" x=\"510.5\" y=\"-542.8\" font-family=\"Times,serif\" font-size=\"14.00\" fill=\"#000000\">mse = 8.556</text>\n",
       "<text text-anchor=\"middle\" x=\"510.5\" y=\"-527.8\" font-family=\"Times,serif\" font-size=\"14.00\" fill=\"#000000\">samples = 33</text>\n",
       "<text text-anchor=\"middle\" x=\"510.5\" y=\"-512.8\" font-family=\"Times,serif\" font-size=\"14.00\" fill=\"#000000\">value = 21.864</text>\n",
       "</g>\n",
       "<!-- 18&#45;&gt;19 -->\n",
       "<g id=\"edge19\" class=\"edge\">\n",
       "<title>18&#45;&gt;19</title>\n",
       "<path fill=\"none\" stroke=\"#000000\" d=\"M550.1812,-608.9465C545.2913,-600.3271 539.9761,-590.9579 534.8722,-581.9611\"/>\n",
       "<polygon fill=\"#000000\" stroke=\"#000000\" points=\"537.8408,-580.1008 529.8622,-573.13 531.7524,-583.5549 537.8408,-580.1008\"/>\n",
       "</g>\n",
       "<!-- 22 -->\n",
       "<g id=\"node23\" class=\"node\">\n",
       "<title>22</title>\n",
       "<polygon fill=\"none\" stroke=\"#000000\" points=\"685,-573 578,-573 578,-505 685,-505 685,-573\"/>\n",
       "<text text-anchor=\"middle\" x=\"631.5\" y=\"-557.8\" font-family=\"Times,serif\" font-size=\"14.00\" fill=\"#000000\">indus &lt;= 10.245</text>\n",
       "<text text-anchor=\"middle\" x=\"631.5\" y=\"-542.8\" font-family=\"Times,serif\" font-size=\"14.00\" fill=\"#000000\">mse = 4.96</text>\n",
       "<text text-anchor=\"middle\" x=\"631.5\" y=\"-527.8\" font-family=\"Times,serif\" font-size=\"14.00\" fill=\"#000000\">samples = 80</text>\n",
       "<text text-anchor=\"middle\" x=\"631.5\" y=\"-512.8\" font-family=\"Times,serif\" font-size=\"14.00\" fill=\"#000000\">value = 20.319</text>\n",
       "</g>\n",
       "<!-- 18&#45;&gt;22 -->\n",
       "<g id=\"edge22\" class=\"edge\">\n",
       "<title>18&#45;&gt;22</title>\n",
       "<path fill=\"none\" stroke=\"#000000\" d=\"M589.8011,-608.9465C594.9396,-600.3271 600.5251,-590.9579 605.8886,-581.9611\"/>\n",
       "<polygon fill=\"#000000\" stroke=\"#000000\" points=\"609.0389,-583.5117 611.1533,-573.13 603.0263,-579.9272 609.0389,-583.5117\"/>\n",
       "</g>\n",
       "<!-- 20 -->\n",
       "<g id=\"node21\" class=\"node\">\n",
       "<title>20</title>\n",
       "<polygon fill=\"none\" stroke=\"#000000\" points=\"445,-461.5 346,-461.5 346,-408.5 445,-408.5 445,-461.5\"/>\n",
       "<text text-anchor=\"middle\" x=\"395.5\" y=\"-446.3\" font-family=\"Times,serif\" font-size=\"14.00\" fill=\"#000000\">mse = 9.029</text>\n",
       "<text text-anchor=\"middle\" x=\"395.5\" y=\"-431.3\" font-family=\"Times,serif\" font-size=\"14.00\" fill=\"#000000\">samples = 15</text>\n",
       "<text text-anchor=\"middle\" x=\"395.5\" y=\"-416.3\" font-family=\"Times,serif\" font-size=\"14.00\" fill=\"#000000\">value = 23.127</text>\n",
       "</g>\n",
       "<!-- 19&#45;&gt;20 -->\n",
       "<g id=\"edge20\" class=\"edge\">\n",
       "<title>19&#45;&gt;20</title>\n",
       "<path fill=\"none\" stroke=\"#000000\" d=\"M472.8447,-504.9465C459.8122,-493.1606 445.2294,-479.9726 432.2689,-468.2519\"/>\n",
       "<polygon fill=\"#000000\" stroke=\"#000000\" points=\"434.614,-465.6537 424.8495,-461.5422 429.9188,-470.8456 434.614,-465.6537\"/>\n",
       "</g>\n",
       "<!-- 21 -->\n",
       "<g id=\"node22\" class=\"node\">\n",
       "<title>21</title>\n",
       "<polygon fill=\"none\" stroke=\"#000000\" points=\"562,-461.5 463,-461.5 463,-408.5 562,-408.5 562,-461.5\"/>\n",
       "<text text-anchor=\"middle\" x=\"512.5\" y=\"-446.3\" font-family=\"Times,serif\" font-size=\"14.00\" fill=\"#000000\">mse = 5.725</text>\n",
       "<text text-anchor=\"middle\" x=\"512.5\" y=\"-431.3\" font-family=\"Times,serif\" font-size=\"14.00\" fill=\"#000000\">samples = 18</text>\n",
       "<text text-anchor=\"middle\" x=\"512.5\" y=\"-416.3\" font-family=\"Times,serif\" font-size=\"14.00\" fill=\"#000000\">value = 20.811</text>\n",
       "</g>\n",
       "<!-- 19&#45;&gt;21 -->\n",
       "<g id=\"edge21\" class=\"edge\">\n",
       "<title>19&#45;&gt;21</title>\n",
       "<path fill=\"none\" stroke=\"#000000\" d=\"M511.1549,-504.9465C511.3603,-494.2621 511.588,-482.4254 511.7966,-471.5742\"/>\n",
       "<polygon fill=\"#000000\" stroke=\"#000000\" points=\"515.2966,-471.6076 511.9896,-461.5422 508.2979,-471.473 515.2966,-471.6076\"/>\n",
       "</g>\n",
       "<!-- 23 -->\n",
       "<g id=\"node24\" class=\"node\">\n",
       "<title>23</title>\n",
       "<polygon fill=\"none\" stroke=\"#000000\" points=\"679,-469 580,-469 580,-401 679,-401 679,-469\"/>\n",
       "<text text-anchor=\"middle\" x=\"629.5\" y=\"-453.8\" font-family=\"Times,serif\" font-size=\"14.00\" fill=\"#000000\">age &lt;= 70.1</text>\n",
       "<text text-anchor=\"middle\" x=\"629.5\" y=\"-438.8\" font-family=\"Times,serif\" font-size=\"14.00\" fill=\"#000000\">mse = 4.35</text>\n",
       "<text text-anchor=\"middle\" x=\"629.5\" y=\"-423.8\" font-family=\"Times,serif\" font-size=\"14.00\" fill=\"#000000\">samples = 44</text>\n",
       "<text text-anchor=\"middle\" x=\"629.5\" y=\"-408.8\" font-family=\"Times,serif\" font-size=\"14.00\" fill=\"#000000\">value = 19.661</text>\n",
       "</g>\n",
       "<!-- 22&#45;&gt;23 -->\n",
       "<g id=\"edge23\" class=\"edge\">\n",
       "<title>22&#45;&gt;23</title>\n",
       "<path fill=\"none\" stroke=\"#000000\" d=\"M630.8451,-504.9465C630.688,-496.776 630.5179,-487.9318 630.3533,-479.3697\"/>\n",
       "<polygon fill=\"#000000\" stroke=\"#000000\" points=\"633.8481,-479.0608 630.1563,-469.13 626.8494,-479.1955 633.8481,-479.0608\"/>\n",
       "</g>\n",
       "<!-- 26 -->\n",
       "<g id=\"node27\" class=\"node\">\n",
       "<title>26</title>\n",
       "<polygon fill=\"none\" stroke=\"#000000\" points=\"796,-469 697,-469 697,-401 796,-401 796,-469\"/>\n",
       "<text text-anchor=\"middle\" x=\"746.5\" y=\"-453.8\" font-family=\"Times,serif\" font-size=\"14.00\" fill=\"#000000\">nox &lt;= 0.627</text>\n",
       "<text text-anchor=\"middle\" x=\"746.5\" y=\"-438.8\" font-family=\"Times,serif\" font-size=\"14.00\" fill=\"#000000\">mse = 4.531</text>\n",
       "<text text-anchor=\"middle\" x=\"746.5\" y=\"-423.8\" font-family=\"Times,serif\" font-size=\"14.00\" fill=\"#000000\">samples = 36</text>\n",
       "<text text-anchor=\"middle\" x=\"746.5\" y=\"-408.8\" font-family=\"Times,serif\" font-size=\"14.00\" fill=\"#000000\">value = 21.122</text>\n",
       "</g>\n",
       "<!-- 22&#45;&gt;26 -->\n",
       "<g id=\"edge26\" class=\"edge\">\n",
       "<title>22&#45;&gt;26</title>\n",
       "<path fill=\"none\" stroke=\"#000000\" d=\"M669.1553,-504.9465C679.3813,-495.6986 690.5618,-485.5876 701.1641,-475.9994\"/>\n",
       "<polygon fill=\"#000000\" stroke=\"#000000\" points=\"703.6908,-478.4334 708.7601,-469.13 698.9956,-473.2416 703.6908,-478.4334\"/>\n",
       "</g>\n",
       "<!-- 24 -->\n",
       "<g id=\"node25\" class=\"node\">\n",
       "<title>24</title>\n",
       "<polygon fill=\"none\" stroke=\"#000000\" points=\"566,-357.5 467,-357.5 467,-304.5 566,-304.5 566,-357.5\"/>\n",
       "<text text-anchor=\"middle\" x=\"516.5\" y=\"-342.3\" font-family=\"Times,serif\" font-size=\"14.00\" fill=\"#000000\">mse = 4.541</text>\n",
       "<text text-anchor=\"middle\" x=\"516.5\" y=\"-327.3\" font-family=\"Times,serif\" font-size=\"14.00\" fill=\"#000000\">samples = 26</text>\n",
       "<text text-anchor=\"middle\" x=\"516.5\" y=\"-312.3\" font-family=\"Times,serif\" font-size=\"14.00\" fill=\"#000000\">value = 20.292</text>\n",
       "</g>\n",
       "<!-- 23&#45;&gt;24 -->\n",
       "<g id=\"edge24\" class=\"edge\">\n",
       "<title>23&#45;&gt;24</title>\n",
       "<path fill=\"none\" stroke=\"#000000\" d=\"M592.4996,-400.9465C579.8134,-389.2707 565.6322,-376.219 552.987,-364.5809\"/>\n",
       "<polygon fill=\"#000000\" stroke=\"#000000\" points=\"555.0673,-361.7389 545.3391,-357.5422 550.3269,-366.8895 555.0673,-361.7389\"/>\n",
       "</g>\n",
       "<!-- 25 -->\n",
       "<g id=\"node26\" class=\"node\">\n",
       "<title>25</title>\n",
       "<polygon fill=\"none\" stroke=\"#000000\" points=\"676.5,-357.5 584.5,-357.5 584.5,-304.5 676.5,-304.5 676.5,-357.5\"/>\n",
       "<text text-anchor=\"middle\" x=\"630.5\" y=\"-342.3\" font-family=\"Times,serif\" font-size=\"14.00\" fill=\"#000000\">mse = 2.668</text>\n",
       "<text text-anchor=\"middle\" x=\"630.5\" y=\"-327.3\" font-family=\"Times,serif\" font-size=\"14.00\" fill=\"#000000\">samples = 18</text>\n",
       "<text text-anchor=\"middle\" x=\"630.5\" y=\"-312.3\" font-family=\"Times,serif\" font-size=\"14.00\" fill=\"#000000\">value = 18.75</text>\n",
       "</g>\n",
       "<!-- 23&#45;&gt;25 -->\n",
       "<g id=\"edge25\" class=\"edge\">\n",
       "<title>23&#45;&gt;25</title>\n",
       "<path fill=\"none\" stroke=\"#000000\" d=\"M629.8274,-400.9465C629.9302,-390.2621 630.044,-378.4254 630.1483,-367.5742\"/>\n",
       "<polygon fill=\"#000000\" stroke=\"#000000\" points=\"633.6484,-367.5754 630.2448,-357.5422 626.6487,-367.508 633.6484,-367.5754\"/>\n",
       "</g>\n",
       "<!-- 27 -->\n",
       "<g id=\"node28\" class=\"node\">\n",
       "<title>27</title>\n",
       "<polygon fill=\"none\" stroke=\"#000000\" points=\"795,-357.5 696,-357.5 696,-304.5 795,-304.5 795,-357.5\"/>\n",
       "<text text-anchor=\"middle\" x=\"745.5\" y=\"-342.3\" font-family=\"Times,serif\" font-size=\"14.00\" fill=\"#000000\">mse = 4.093</text>\n",
       "<text text-anchor=\"middle\" x=\"745.5\" y=\"-327.3\" font-family=\"Times,serif\" font-size=\"14.00\" fill=\"#000000\">samples = 24</text>\n",
       "<text text-anchor=\"middle\" x=\"745.5\" y=\"-312.3\" font-family=\"Times,serif\" font-size=\"14.00\" fill=\"#000000\">value = 20.783</text>\n",
       "</g>\n",
       "<!-- 26&#45;&gt;27 -->\n",
       "<g id=\"edge27\" class=\"edge\">\n",
       "<title>26&#45;&gt;27</title>\n",
       "<path fill=\"none\" stroke=\"#000000\" d=\"M746.1726,-400.9465C746.0698,-390.2621 745.956,-378.4254 745.8517,-367.5742\"/>\n",
       "<polygon fill=\"#000000\" stroke=\"#000000\" points=\"749.3513,-367.508 745.7552,-357.5422 742.3516,-367.5754 749.3513,-367.508\"/>\n",
       "</g>\n",
       "<!-- 28 -->\n",
       "<g id=\"node29\" class=\"node\">\n",
       "<title>28</title>\n",
       "<polygon fill=\"none\" stroke=\"#000000\" points=\"903.5,-357.5 813.5,-357.5 813.5,-304.5 903.5,-304.5 903.5,-357.5\"/>\n",
       "<text text-anchor=\"middle\" x=\"858.5\" y=\"-342.3\" font-family=\"Times,serif\" font-size=\"14.00\" fill=\"#000000\">mse = 4.717</text>\n",
       "<text text-anchor=\"middle\" x=\"858.5\" y=\"-327.3\" font-family=\"Times,serif\" font-size=\"14.00\" fill=\"#000000\">samples = 12</text>\n",
       "<text text-anchor=\"middle\" x=\"858.5\" y=\"-312.3\" font-family=\"Times,serif\" font-size=\"14.00\" fill=\"#000000\">value = 21.8</text>\n",
       "</g>\n",
       "<!-- 26&#45;&gt;28 -->\n",
       "<g id=\"edge28\" class=\"edge\">\n",
       "<title>26&#45;&gt;28</title>\n",
       "<path fill=\"none\" stroke=\"#000000\" d=\"M783.173,-400.9465C795.7469,-389.2707 809.8026,-376.219 822.3359,-364.5809\"/>\n",
       "<polygon fill=\"#000000\" stroke=\"#000000\" points=\"824.9698,-366.9115 829.9161,-357.5422 820.2066,-361.7819 824.9698,-366.9115\"/>\n",
       "</g>\n",
       "<!-- 30 -->\n",
       "<g id=\"node31\" class=\"node\">\n",
       "<title>30</title>\n",
       "<polygon fill=\"none\" stroke=\"#000000\" points=\"913,-781 814,-781 814,-713 913,-713 913,-781\"/>\n",
       "<text text-anchor=\"middle\" x=\"863.5\" y=\"-765.8\" font-family=\"Times,serif\" font-size=\"14.00\" fill=\"#000000\">nox &lt;= 0.531</text>\n",
       "<text text-anchor=\"middle\" x=\"863.5\" y=\"-750.8\" font-family=\"Times,serif\" font-size=\"14.00\" fill=\"#000000\">mse = 11.391</text>\n",
       "<text text-anchor=\"middle\" x=\"863.5\" y=\"-735.8\" font-family=\"Times,serif\" font-size=\"14.00\" fill=\"#000000\">samples = 101</text>\n",
       "<text text-anchor=\"middle\" x=\"863.5\" y=\"-720.8\" font-family=\"Times,serif\" font-size=\"14.00\" fill=\"#000000\">value = 17.138</text>\n",
       "</g>\n",
       "<!-- 29&#45;&gt;30 -->\n",
       "<g id=\"edge30\" class=\"edge\">\n",
       "<title>29&#45;&gt;30</title>\n",
       "<path fill=\"none\" stroke=\"#000000\" d=\"M902.5086,-816.9465C897.7017,-808.3271 892.4765,-798.9579 887.4591,-789.9611\"/>\n",
       "<polygon fill=\"#000000\" stroke=\"#000000\" points=\"890.4615,-788.1589 882.534,-781.13 884.348,-791.5684 890.4615,-788.1589\"/>\n",
       "</g>\n",
       "<!-- 39 -->\n",
       "<g id=\"node40\" class=\"node\">\n",
       "<title>39</title>\n",
       "<polygon fill=\"none\" stroke=\"#000000\" points=\"1030,-781 931,-781 931,-713 1030,-713 1030,-781\"/>\n",
       "<text text-anchor=\"middle\" x=\"980.5\" y=\"-765.8\" font-family=\"Times,serif\" font-size=\"14.00\" fill=\"#000000\">nox &lt;= 0.606</text>\n",
       "<text text-anchor=\"middle\" x=\"980.5\" y=\"-750.8\" font-family=\"Times,serif\" font-size=\"14.00\" fill=\"#000000\">mse = 14.674</text>\n",
       "<text text-anchor=\"middle\" x=\"980.5\" y=\"-735.8\" font-family=\"Times,serif\" font-size=\"14.00\" fill=\"#000000\">samples = 74</text>\n",
       "<text text-anchor=\"middle\" x=\"980.5\" y=\"-720.8\" font-family=\"Times,serif\" font-size=\"14.00\" fill=\"#000000\">value = 11.978</text>\n",
       "</g>\n",
       "<!-- 29&#45;&gt;39 -->\n",
       "<g id=\"edge39\" class=\"edge\">\n",
       "<title>29&#45;&gt;39</title>\n",
       "<path fill=\"none\" stroke=\"#000000\" d=\"M940.8188,-816.9465C945.7087,-808.3271 951.0239,-798.9579 956.1278,-789.9611\"/>\n",
       "<polygon fill=\"#000000\" stroke=\"#000000\" points=\"959.2476,-791.5549 961.1378,-781.13 953.1592,-788.1008 959.2476,-791.5549\"/>\n",
       "</g>\n",
       "<!-- 31 -->\n",
       "<g id=\"node32\" class=\"node\">\n",
       "<title>31</title>\n",
       "<polygon fill=\"none\" stroke=\"#000000\" points=\"795,-669.5 696,-669.5 696,-616.5 795,-616.5 795,-669.5\"/>\n",
       "<text text-anchor=\"middle\" x=\"745.5\" y=\"-654.3\" font-family=\"Times,serif\" font-size=\"14.00\" fill=\"#000000\">mse = 9.016</text>\n",
       "<text text-anchor=\"middle\" x=\"745.5\" y=\"-639.3\" font-family=\"Times,serif\" font-size=\"14.00\" fill=\"#000000\">samples = 24</text>\n",
       "<text text-anchor=\"middle\" x=\"745.5\" y=\"-624.3\" font-family=\"Times,serif\" font-size=\"14.00\" fill=\"#000000\">value = 20.021</text>\n",
       "</g>\n",
       "<!-- 30&#45;&gt;31 -->\n",
       "<g id=\"edge31\" class=\"edge\">\n",
       "<title>30&#45;&gt;31</title>\n",
       "<path fill=\"none\" stroke=\"#000000\" d=\"M824.8624,-712.9465C811.4899,-701.1606 796.5266,-687.9726 783.2281,-676.2519\"/>\n",
       "<polygon fill=\"#000000\" stroke=\"#000000\" points=\"785.4315,-673.5285 775.6151,-669.5422 780.803,-678.7799 785.4315,-673.5285\"/>\n",
       "</g>\n",
       "<!-- 32 -->\n",
       "<g id=\"node33\" class=\"node\">\n",
       "<title>32</title>\n",
       "<polygon fill=\"none\" stroke=\"#000000\" points=\"914,-677 813,-677 813,-609 914,-609 914,-677\"/>\n",
       "<text text-anchor=\"middle\" x=\"863.5\" y=\"-661.8\" font-family=\"Times,serif\" font-size=\"14.00\" fill=\"#000000\">lstat &lt;= 18.885</text>\n",
       "<text text-anchor=\"middle\" x=\"863.5\" y=\"-646.8\" font-family=\"Times,serif\" font-size=\"14.00\" fill=\"#000000\">mse = 8.733</text>\n",
       "<text text-anchor=\"middle\" x=\"863.5\" y=\"-631.8\" font-family=\"Times,serif\" font-size=\"14.00\" fill=\"#000000\">samples = 77</text>\n",
       "<text text-anchor=\"middle\" x=\"863.5\" y=\"-616.8\" font-family=\"Times,serif\" font-size=\"14.00\" fill=\"#000000\">value = 16.239</text>\n",
       "</g>\n",
       "<!-- 30&#45;&gt;32 -->\n",
       "<g id=\"edge32\" class=\"edge\">\n",
       "<title>30&#45;&gt;32</title>\n",
       "<path fill=\"none\" stroke=\"#000000\" d=\"M863.5,-712.9465C863.5,-704.776 863.5,-695.9318 863.5,-687.3697\"/>\n",
       "<polygon fill=\"#000000\" stroke=\"#000000\" points=\"867.0001,-687.13 863.5,-677.13 860.0001,-687.13 867.0001,-687.13\"/>\n",
       "</g>\n",
       "<!-- 33 -->\n",
       "<g id=\"node34\" class=\"node\">\n",
       "<title>33</title>\n",
       "<polygon fill=\"none\" stroke=\"#000000\" points=\"913,-573 814,-573 814,-505 913,-505 913,-573\"/>\n",
       "<text text-anchor=\"middle\" x=\"863.5\" y=\"-557.8\" font-family=\"Times,serif\" font-size=\"14.00\" fill=\"#000000\">age &lt;= 85.2</text>\n",
       "<text text-anchor=\"middle\" x=\"863.5\" y=\"-542.8\" font-family=\"Times,serif\" font-size=\"14.00\" fill=\"#000000\">mse = 5.952</text>\n",
       "<text text-anchor=\"middle\" x=\"863.5\" y=\"-527.8\" font-family=\"Times,serif\" font-size=\"14.00\" fill=\"#000000\">samples = 53</text>\n",
       "<text text-anchor=\"middle\" x=\"863.5\" y=\"-512.8\" font-family=\"Times,serif\" font-size=\"14.00\" fill=\"#000000\">value = 17.234</text>\n",
       "</g>\n",
       "<!-- 32&#45;&gt;33 -->\n",
       "<g id=\"edge33\" class=\"edge\">\n",
       "<title>32&#45;&gt;33</title>\n",
       "<path fill=\"none\" stroke=\"#000000\" d=\"M863.5,-608.9465C863.5,-600.776 863.5,-591.9318 863.5,-583.3697\"/>\n",
       "<polygon fill=\"#000000\" stroke=\"#000000\" points=\"867.0001,-583.13 863.5,-573.13 860.0001,-583.13 867.0001,-583.13\"/>\n",
       "</g>\n",
       "<!-- 38 -->\n",
       "<g id=\"node39\" class=\"node\">\n",
       "<title>38</title>\n",
       "<polygon fill=\"none\" stroke=\"#000000\" points=\"1030,-565.5 931,-565.5 931,-512.5 1030,-512.5 1030,-565.5\"/>\n",
       "<text text-anchor=\"middle\" x=\"980.5\" y=\"-550.3\" font-family=\"Times,serif\" font-size=\"14.00\" fill=\"#000000\">mse = 7.862</text>\n",
       "<text text-anchor=\"middle\" x=\"980.5\" y=\"-535.3\" font-family=\"Times,serif\" font-size=\"14.00\" fill=\"#000000\">samples = 24</text>\n",
       "<text text-anchor=\"middle\" x=\"980.5\" y=\"-520.3\" font-family=\"Times,serif\" font-size=\"14.00\" fill=\"#000000\">value = 14.042</text>\n",
       "</g>\n",
       "<!-- 32&#45;&gt;38 -->\n",
       "<g id=\"edge38\" class=\"edge\">\n",
       "<title>32&#45;&gt;38</title>\n",
       "<path fill=\"none\" stroke=\"#000000\" d=\"M901.8102,-608.9465C915.0694,-597.1606 929.9058,-583.9726 943.0916,-572.2519\"/>\n",
       "<polygon fill=\"#000000\" stroke=\"#000000\" points=\"945.4912,-574.8018 950.6401,-565.5422 940.8407,-569.5699 945.4912,-574.8018\"/>\n",
       "</g>\n",
       "<!-- 34 -->\n",
       "<g id=\"node35\" class=\"node\">\n",
       "<title>34</title>\n",
       "<polygon fill=\"none\" stroke=\"#000000\" points=\"913,-461.5 814,-461.5 814,-408.5 913,-408.5 913,-461.5\"/>\n",
       "<text text-anchor=\"middle\" x=\"863.5\" y=\"-446.3\" font-family=\"Times,serif\" font-size=\"14.00\" fill=\"#000000\">mse = 4.531</text>\n",
       "<text text-anchor=\"middle\" x=\"863.5\" y=\"-431.3\" font-family=\"Times,serif\" font-size=\"14.00\" fill=\"#000000\">samples = 12</text>\n",
       "<text text-anchor=\"middle\" x=\"863.5\" y=\"-416.3\" font-family=\"Times,serif\" font-size=\"14.00\" fill=\"#000000\">value = 19.408</text>\n",
       "</g>\n",
       "<!-- 33&#45;&gt;34 -->\n",
       "<g id=\"edge34\" class=\"edge\">\n",
       "<title>33&#45;&gt;34</title>\n",
       "<path fill=\"none\" stroke=\"#000000\" d=\"M863.5,-504.9465C863.5,-494.2621 863.5,-482.4254 863.5,-471.5742\"/>\n",
       "<polygon fill=\"#000000\" stroke=\"#000000\" points=\"867.0001,-471.5421 863.5,-461.5422 860.0001,-471.5422 867.0001,-471.5421\"/>\n",
       "</g>\n",
       "<!-- 35 -->\n",
       "<g id=\"node36\" class=\"node\">\n",
       "<title>35</title>\n",
       "<polygon fill=\"none\" stroke=\"#000000\" points=\"1030,-469 931,-469 931,-401 1030,-401 1030,-469\"/>\n",
       "<text text-anchor=\"middle\" x=\"980.5\" y=\"-453.8\" font-family=\"Times,serif\" font-size=\"14.00\" fill=\"#000000\">crim &lt;= 0.615</text>\n",
       "<text text-anchor=\"middle\" x=\"980.5\" y=\"-438.8\" font-family=\"Times,serif\" font-size=\"14.00\" fill=\"#000000\">mse = 4.579</text>\n",
       "<text text-anchor=\"middle\" x=\"980.5\" y=\"-423.8\" font-family=\"Times,serif\" font-size=\"14.00\" fill=\"#000000\">samples = 41</text>\n",
       "<text text-anchor=\"middle\" x=\"980.5\" y=\"-408.8\" font-family=\"Times,serif\" font-size=\"14.00\" fill=\"#000000\">value = 16.598</text>\n",
       "</g>\n",
       "<!-- 33&#45;&gt;35 -->\n",
       "<g id=\"edge35\" class=\"edge\">\n",
       "<title>33&#45;&gt;35</title>\n",
       "<path fill=\"none\" stroke=\"#000000\" d=\"M901.8102,-504.9465C912.2141,-495.6986 923.589,-485.5876 934.3757,-475.9994\"/>\n",
       "<polygon fill=\"#000000\" stroke=\"#000000\" points=\"936.9549,-478.3896 942.1038,-469.13 932.3044,-473.1577 936.9549,-478.3896\"/>\n",
       "</g>\n",
       "<!-- 36 -->\n",
       "<g id=\"node37\" class=\"node\">\n",
       "<title>36</title>\n",
       "<polygon fill=\"none\" stroke=\"#000000\" points=\"1026,-357.5 927,-357.5 927,-304.5 1026,-304.5 1026,-357.5\"/>\n",
       "<text text-anchor=\"middle\" x=\"976.5\" y=\"-342.3\" font-family=\"Times,serif\" font-size=\"14.00\" fill=\"#000000\">mse = 3.971</text>\n",
       "<text text-anchor=\"middle\" x=\"976.5\" y=\"-327.3\" font-family=\"Times,serif\" font-size=\"14.00\" fill=\"#000000\">samples = 16</text>\n",
       "<text text-anchor=\"middle\" x=\"976.5\" y=\"-312.3\" font-family=\"Times,serif\" font-size=\"14.00\" fill=\"#000000\">value = 18.112</text>\n",
       "</g>\n",
       "<!-- 35&#45;&gt;36 -->\n",
       "<g id=\"edge36\" class=\"edge\">\n",
       "<title>35&#45;&gt;36</title>\n",
       "<path fill=\"none\" stroke=\"#000000\" d=\"M979.1903,-400.9465C978.7793,-390.2621 978.3241,-378.4254 977.9067,-367.5742\"/>\n",
       "<polygon fill=\"#000000\" stroke=\"#000000\" points=\"981.4027,-367.4002 977.5209,-357.5422 974.4079,-367.6693 981.4027,-367.4002\"/>\n",
       "</g>\n",
       "<!-- 37 -->\n",
       "<g id=\"node38\" class=\"node\">\n",
       "<title>37</title>\n",
       "<polygon fill=\"none\" stroke=\"#000000\" points=\"1143,-357.5 1044,-357.5 1044,-304.5 1143,-304.5 1143,-357.5\"/>\n",
       "<text text-anchor=\"middle\" x=\"1093.5\" y=\"-342.3\" font-family=\"Times,serif\" font-size=\"14.00\" fill=\"#000000\">mse = 2.559</text>\n",
       "<text text-anchor=\"middle\" x=\"1093.5\" y=\"-327.3\" font-family=\"Times,serif\" font-size=\"14.00\" fill=\"#000000\">samples = 25</text>\n",
       "<text text-anchor=\"middle\" x=\"1093.5\" y=\"-312.3\" font-family=\"Times,serif\" font-size=\"14.00\" fill=\"#000000\">value = 15.628</text>\n",
       "</g>\n",
       "<!-- 35&#45;&gt;37 -->\n",
       "<g id=\"edge37\" class=\"edge\">\n",
       "<title>35&#45;&gt;37</title>\n",
       "<path fill=\"none\" stroke=\"#000000\" d=\"M1017.5004,-400.9465C1030.1866,-389.2707 1044.3678,-376.219 1057.013,-364.5809\"/>\n",
       "<polygon fill=\"#000000\" stroke=\"#000000\" points=\"1059.6731,-366.8895 1064.6609,-357.5422 1054.9327,-361.7389 1059.6731,-366.8895\"/>\n",
       "</g>\n",
       "<!-- 40 -->\n",
       "<g id=\"node41\" class=\"node\">\n",
       "<title>40</title>\n",
       "<polygon fill=\"none\" stroke=\"#000000\" points=\"1031,-669.5 932,-669.5 932,-616.5 1031,-616.5 1031,-669.5\"/>\n",
       "<text text-anchor=\"middle\" x=\"981.5\" y=\"-654.3\" font-family=\"Times,serif\" font-size=\"14.00\" fill=\"#000000\">mse = 18.606</text>\n",
       "<text text-anchor=\"middle\" x=\"981.5\" y=\"-639.3\" font-family=\"Times,serif\" font-size=\"14.00\" fill=\"#000000\">samples = 12</text>\n",
       "<text text-anchor=\"middle\" x=\"981.5\" y=\"-624.3\" font-family=\"Times,serif\" font-size=\"14.00\" fill=\"#000000\">value = 16.633</text>\n",
       "</g>\n",
       "<!-- 39&#45;&gt;40 -->\n",
       "<g id=\"edge40\" class=\"edge\">\n",
       "<title>39&#45;&gt;40</title>\n",
       "<path fill=\"none\" stroke=\"#000000\" d=\"M980.8274,-712.9465C980.9302,-702.2621 981.044,-690.4254 981.1483,-679.5742\"/>\n",
       "<polygon fill=\"#000000\" stroke=\"#000000\" points=\"984.6484,-679.5754 981.2448,-669.5422 977.6487,-679.508 984.6484,-679.5754\"/>\n",
       "</g>\n",
       "<!-- 41 -->\n",
       "<g id=\"node42\" class=\"node\">\n",
       "<title>41</title>\n",
       "<polygon fill=\"none\" stroke=\"#000000\" points=\"1150,-677 1049,-677 1049,-609 1150,-609 1150,-677\"/>\n",
       "<text text-anchor=\"middle\" x=\"1099.5\" y=\"-661.8\" font-family=\"Times,serif\" font-size=\"14.00\" fill=\"#000000\">lstat &lt;= 19.645</text>\n",
       "<text text-anchor=\"middle\" x=\"1099.5\" y=\"-646.8\" font-family=\"Times,serif\" font-size=\"14.00\" fill=\"#000000\">mse = 8.908</text>\n",
       "<text text-anchor=\"middle\" x=\"1099.5\" y=\"-631.8\" font-family=\"Times,serif\" font-size=\"14.00\" fill=\"#000000\">samples = 62</text>\n",
       "<text text-anchor=\"middle\" x=\"1099.5\" y=\"-616.8\" font-family=\"Times,serif\" font-size=\"14.00\" fill=\"#000000\">value = 11.077</text>\n",
       "</g>\n",
       "<!-- 39&#45;&gt;41 -->\n",
       "<g id=\"edge41\" class=\"edge\">\n",
       "<title>39&#45;&gt;41</title>\n",
       "<path fill=\"none\" stroke=\"#000000\" d=\"M1019.4651,-712.9465C1030.1495,-703.6088 1041.8409,-693.3911 1052.9066,-683.7203\"/>\n",
       "<polygon fill=\"#000000\" stroke=\"#000000\" points=\"1055.2209,-686.346 1060.4474,-677.13 1050.6145,-681.0752 1055.2209,-686.346\"/>\n",
       "</g>\n",
       "<!-- 42 -->\n",
       "<g id=\"node43\" class=\"node\">\n",
       "<title>42</title>\n",
       "<polygon fill=\"none\" stroke=\"#000000\" points=\"1148,-565.5 1049,-565.5 1049,-512.5 1148,-512.5 1148,-565.5\"/>\n",
       "<text text-anchor=\"middle\" x=\"1098.5\" y=\"-550.3\" font-family=\"Times,serif\" font-size=\"14.00\" fill=\"#000000\">mse = 4.18</text>\n",
       "<text text-anchor=\"middle\" x=\"1098.5\" y=\"-535.3\" font-family=\"Times,serif\" font-size=\"14.00\" fill=\"#000000\">samples = 18</text>\n",
       "<text text-anchor=\"middle\" x=\"1098.5\" y=\"-520.3\" font-family=\"Times,serif\" font-size=\"14.00\" fill=\"#000000\">value = 13.922</text>\n",
       "</g>\n",
       "<!-- 41&#45;&gt;42 -->\n",
       "<g id=\"edge42\" class=\"edge\">\n",
       "<title>41&#45;&gt;42</title>\n",
       "<path fill=\"none\" stroke=\"#000000\" d=\"M1099.1726,-608.9465C1099.0698,-598.2621 1098.956,-586.4254 1098.8517,-575.5742\"/>\n",
       "<polygon fill=\"#000000\" stroke=\"#000000\" points=\"1102.3513,-575.508 1098.7552,-565.5422 1095.3516,-575.5754 1102.3513,-575.508\"/>\n",
       "</g>\n",
       "<!-- 43 -->\n",
       "<g id=\"node44\" class=\"node\">\n",
       "<title>43</title>\n",
       "<polygon fill=\"none\" stroke=\"#000000\" points=\"1258.5,-573 1166.5,-573 1166.5,-505 1258.5,-505 1258.5,-573\"/>\n",
       "<text text-anchor=\"middle\" x=\"1212.5\" y=\"-557.8\" font-family=\"Times,serif\" font-size=\"14.00\" fill=\"#000000\">nox &lt;= 0.675</text>\n",
       "<text text-anchor=\"middle\" x=\"1212.5\" y=\"-542.8\" font-family=\"Times,serif\" font-size=\"14.00\" fill=\"#000000\">mse = 6.177</text>\n",
       "<text text-anchor=\"middle\" x=\"1212.5\" y=\"-527.8\" font-family=\"Times,serif\" font-size=\"14.00\" fill=\"#000000\">samples = 44</text>\n",
       "<text text-anchor=\"middle\" x=\"1212.5\" y=\"-512.8\" font-family=\"Times,serif\" font-size=\"14.00\" fill=\"#000000\">value = 9.914</text>\n",
       "</g>\n",
       "<!-- 41&#45;&gt;43 -->\n",
       "<g id=\"edge43\" class=\"edge\">\n",
       "<title>41&#45;&gt;43</title>\n",
       "<path fill=\"none\" stroke=\"#000000\" d=\"M1136.5004,-608.9465C1146.5486,-599.6986 1157.5347,-589.5876 1167.9526,-579.9994\"/>\n",
       "<polygon fill=\"#000000\" stroke=\"#000000\" points=\"1170.4286,-582.4773 1175.4164,-573.13 1165.6882,-577.3267 1170.4286,-582.4773\"/>\n",
       "</g>\n",
       "<!-- 44 -->\n",
       "<g id=\"node45\" class=\"node\">\n",
       "<title>44</title>\n",
       "<polygon fill=\"none\" stroke=\"#000000\" points=\"1254.5,-461.5 1162.5,-461.5 1162.5,-408.5 1254.5,-408.5 1254.5,-461.5\"/>\n",
       "<text text-anchor=\"middle\" x=\"1208.5\" y=\"-446.3\" font-family=\"Times,serif\" font-size=\"14.00\" fill=\"#000000\">mse = 1.544</text>\n",
       "<text text-anchor=\"middle\" x=\"1208.5\" y=\"-431.3\" font-family=\"Times,serif\" font-size=\"14.00\" fill=\"#000000\">samples = 10</text>\n",
       "<text text-anchor=\"middle\" x=\"1208.5\" y=\"-416.3\" font-family=\"Times,serif\" font-size=\"14.00\" fill=\"#000000\">value = 12.63</text>\n",
       "</g>\n",
       "<!-- 43&#45;&gt;44 -->\n",
       "<g id=\"edge44\" class=\"edge\">\n",
       "<title>43&#45;&gt;44</title>\n",
       "<path fill=\"none\" stroke=\"#000000\" d=\"M1211.1903,-504.9465C1210.7793,-494.2621 1210.3241,-482.4254 1209.9067,-471.5742\"/>\n",
       "<polygon fill=\"#000000\" stroke=\"#000000\" points=\"1213.4027,-471.4002 1209.5209,-461.5422 1206.4079,-471.6693 1213.4027,-471.4002\"/>\n",
       "</g>\n",
       "<!-- 45 -->\n",
       "<g id=\"node46\" class=\"node\">\n",
       "<title>45</title>\n",
       "<polygon fill=\"none\" stroke=\"#000000\" points=\"1370,-469 1273,-469 1273,-401 1370,-401 1370,-469\"/>\n",
       "<text text-anchor=\"middle\" x=\"1321.5\" y=\"-453.8\" font-family=\"Times,serif\" font-size=\"14.00\" fill=\"#000000\">crim &lt;= 13.24</text>\n",
       "<text text-anchor=\"middle\" x=\"1321.5\" y=\"-438.8\" font-family=\"Times,serif\" font-size=\"14.00\" fill=\"#000000\">mse = 4.731</text>\n",
       "<text text-anchor=\"middle\" x=\"1321.5\" y=\"-423.8\" font-family=\"Times,serif\" font-size=\"14.00\" fill=\"#000000\">samples = 34</text>\n",
       "<text text-anchor=\"middle\" x=\"1321.5\" y=\"-408.8\" font-family=\"Times,serif\" font-size=\"14.00\" fill=\"#000000\">value = 9.115</text>\n",
       "</g>\n",
       "<!-- 43&#45;&gt;45 -->\n",
       "<g id=\"edge45\" class=\"edge\">\n",
       "<title>43&#45;&gt;45</title>\n",
       "<path fill=\"none\" stroke=\"#000000\" d=\"M1248.1907,-504.9465C1257.7891,-495.7884 1268.2747,-485.7838 1278.2366,-476.2788\"/>\n",
       "<polygon fill=\"#000000\" stroke=\"#000000\" points=\"1280.9102,-478.5655 1285.7291,-469.13 1276.0779,-473.5009 1280.9102,-478.5655\"/>\n",
       "</g>\n",
       "<!-- 46 -->\n",
       "<g id=\"node47\" class=\"node\">\n",
       "<title>46</title>\n",
       "<polygon fill=\"none\" stroke=\"#000000\" points=\"1312.5,-357.5 1220.5,-357.5 1220.5,-304.5 1312.5,-304.5 1312.5,-357.5\"/>\n",
       "<text text-anchor=\"middle\" x=\"1266.5\" y=\"-342.3\" font-family=\"Times,serif\" font-size=\"14.00\" fill=\"#000000\">mse = 3.989</text>\n",
       "<text text-anchor=\"middle\" x=\"1266.5\" y=\"-327.3\" font-family=\"Times,serif\" font-size=\"14.00\" fill=\"#000000\">samples = 15</text>\n",
       "<text text-anchor=\"middle\" x=\"1266.5\" y=\"-312.3\" font-family=\"Times,serif\" font-size=\"14.00\" fill=\"#000000\">value = 10.46</text>\n",
       "</g>\n",
       "<!-- 45&#45;&gt;46 -->\n",
       "<g id=\"edge46\" class=\"edge\">\n",
       "<title>45&#45;&gt;46</title>\n",
       "<path fill=\"none\" stroke=\"#000000\" d=\"M1303.4909,-400.9465C1297.6658,-389.9316 1291.193,-377.6922 1285.3112,-366.5703\"/>\n",
       "<polygon fill=\"#000000\" stroke=\"#000000\" points=\"1288.3057,-364.7459 1280.5367,-357.5422 1282.1178,-368.0184 1288.3057,-364.7459\"/>\n",
       "</g>\n",
       "<!-- 47 -->\n",
       "<g id=\"node48\" class=\"node\">\n",
       "<title>47</title>\n",
       "<polygon fill=\"none\" stroke=\"#000000\" points=\"1422.5,-357.5 1330.5,-357.5 1330.5,-304.5 1422.5,-304.5 1422.5,-357.5\"/>\n",
       "<text text-anchor=\"middle\" x=\"1376.5\" y=\"-342.3\" font-family=\"Times,serif\" font-size=\"14.00\" fill=\"#000000\">mse = 2.76</text>\n",
       "<text text-anchor=\"middle\" x=\"1376.5\" y=\"-327.3\" font-family=\"Times,serif\" font-size=\"14.00\" fill=\"#000000\">samples = 19</text>\n",
       "<text text-anchor=\"middle\" x=\"1376.5\" y=\"-312.3\" font-family=\"Times,serif\" font-size=\"14.00\" fill=\"#000000\">value = 8.053</text>\n",
       "</g>\n",
       "<!-- 45&#45;&gt;47 -->\n",
       "<g id=\"edge47\" class=\"edge\">\n",
       "<title>45&#45;&gt;47</title>\n",
       "<path fill=\"none\" stroke=\"#000000\" d=\"M1339.5091,-400.9465C1345.3342,-389.9316 1351.807,-377.6922 1357.6888,-366.5703\"/>\n",
       "<polygon fill=\"#000000\" stroke=\"#000000\" points=\"1360.8822,-368.0184 1362.4633,-357.5422 1354.6943,-364.7459 1360.8822,-368.0184\"/>\n",
       "</g>\n",
       "<!-- 49 -->\n",
       "<g id=\"node50\" class=\"node\">\n",
       "<title>49</title>\n",
       "<polygon fill=\"none\" stroke=\"#000000\" points=\"1205,-885 1106,-885 1106,-817 1205,-817 1205,-885\"/>\n",
       "<text text-anchor=\"middle\" x=\"1155.5\" y=\"-869.8\" font-family=\"Times,serif\" font-size=\"14.00\" fill=\"#000000\">lstat &lt;= 5.495</text>\n",
       "<text text-anchor=\"middle\" x=\"1155.5\" y=\"-854.8\" font-family=\"Times,serif\" font-size=\"14.00\" fill=\"#000000\">mse = 41.296</text>\n",
       "<text text-anchor=\"middle\" x=\"1155.5\" y=\"-839.8\" font-family=\"Times,serif\" font-size=\"14.00\" fill=\"#000000\">samples = 46</text>\n",
       "<text text-anchor=\"middle\" x=\"1155.5\" y=\"-824.8\" font-family=\"Times,serif\" font-size=\"14.00\" fill=\"#000000\">value = 32.113</text>\n",
       "</g>\n",
       "<!-- 48&#45;&gt;49 -->\n",
       "<g id=\"edge49\" class=\"edge\">\n",
       "<title>48&#45;&gt;49</title>\n",
       "<path fill=\"none\" stroke=\"#000000\" d=\"M1155.5,-920.9465C1155.5,-912.776 1155.5,-903.9318 1155.5,-895.3697\"/>\n",
       "<polygon fill=\"#000000\" stroke=\"#000000\" points=\"1159.0001,-895.13 1155.5,-885.13 1152.0001,-895.13 1159.0001,-895.13\"/>\n",
       "</g>\n",
       "<!-- 52 -->\n",
       "<g id=\"node53\" class=\"node\">\n",
       "<title>52</title>\n",
       "<polygon fill=\"none\" stroke=\"#000000\" points=\"1381.5,-885 1281.5,-885 1281.5,-817 1381.5,-817 1381.5,-885\"/>\n",
       "<text text-anchor=\"middle\" x=\"1331.5\" y=\"-869.8\" font-family=\"Times,serif\" font-size=\"14.00\" fill=\"#000000\">ptratio &lt;= 15.4</text>\n",
       "<text text-anchor=\"middle\" x=\"1331.5\" y=\"-854.8\" font-family=\"Times,serif\" font-size=\"14.00\" fill=\"#000000\">mse = 36.628</text>\n",
       "<text text-anchor=\"middle\" x=\"1331.5\" y=\"-839.8\" font-family=\"Times,serif\" font-size=\"14.00\" fill=\"#000000\">samples = 30</text>\n",
       "<text text-anchor=\"middle\" x=\"1331.5\" y=\"-824.8\" font-family=\"Times,serif\" font-size=\"14.00\" fill=\"#000000\">value = 45.097</text>\n",
       "</g>\n",
       "<!-- 48&#45;&gt;52 -->\n",
       "<g id=\"edge52\" class=\"edge\">\n",
       "<title>48&#45;&gt;52</title>\n",
       "<path fill=\"none\" stroke=\"#000000\" d=\"M1205.4638,-925.476C1226.3649,-913.1253 1250.8109,-898.6799 1272.5814,-885.8155\"/>\n",
       "<polygon fill=\"#000000\" stroke=\"#000000\" points=\"1274.5826,-888.6985 1281.4113,-880.5979 1271.0215,-882.672 1274.5826,-888.6985\"/>\n",
       "</g>\n",
       "<!-- 50 -->\n",
       "<g id=\"node51\" class=\"node\">\n",
       "<title>50</title>\n",
       "<polygon fill=\"none\" stroke=\"#000000\" points=\"1147,-773.5 1048,-773.5 1048,-720.5 1147,-720.5 1147,-773.5\"/>\n",
       "<text text-anchor=\"middle\" x=\"1097.5\" y=\"-758.3\" font-family=\"Times,serif\" font-size=\"14.00\" fill=\"#000000\">mse = 17.249</text>\n",
       "<text text-anchor=\"middle\" x=\"1097.5\" y=\"-743.3\" font-family=\"Times,serif\" font-size=\"14.00\" fill=\"#000000\">samples = 23</text>\n",
       "<text text-anchor=\"middle\" x=\"1097.5\" y=\"-728.3\" font-family=\"Times,serif\" font-size=\"14.00\" fill=\"#000000\">value = 35.248</text>\n",
       "</g>\n",
       "<!-- 49&#45;&gt;50 -->\n",
       "<g id=\"edge50\" class=\"edge\">\n",
       "<title>49&#45;&gt;50</title>\n",
       "<path fill=\"none\" stroke=\"#000000\" d=\"M1136.5086,-816.9465C1130.3657,-805.9316 1123.5399,-793.6922 1117.3373,-782.5703\"/>\n",
       "<polygon fill=\"#000000\" stroke=\"#000000\" points=\"1120.2299,-780.5711 1112.3024,-773.5422 1114.1163,-783.9806 1120.2299,-780.5711\"/>\n",
       "</g>\n",
       "<!-- 51 -->\n",
       "<g id=\"node52\" class=\"node\">\n",
       "<title>51</title>\n",
       "<polygon fill=\"none\" stroke=\"#000000\" points=\"1264,-773.5 1165,-773.5 1165,-720.5 1264,-720.5 1264,-773.5\"/>\n",
       "<text text-anchor=\"middle\" x=\"1214.5\" y=\"-758.3\" font-family=\"Times,serif\" font-size=\"14.00\" fill=\"#000000\">mse = 45.69</text>\n",
       "<text text-anchor=\"middle\" x=\"1214.5\" y=\"-743.3\" font-family=\"Times,serif\" font-size=\"14.00\" fill=\"#000000\">samples = 23</text>\n",
       "<text text-anchor=\"middle\" x=\"1214.5\" y=\"-728.3\" font-family=\"Times,serif\" font-size=\"14.00\" fill=\"#000000\">value = 28.978</text>\n",
       "</g>\n",
       "<!-- 49&#45;&gt;51 -->\n",
       "<g id=\"edge51\" class=\"edge\">\n",
       "<title>49&#45;&gt;51</title>\n",
       "<path fill=\"none\" stroke=\"#000000\" d=\"M1174.8188,-816.9465C1181.0676,-805.9316 1188.0112,-793.6922 1194.3207,-782.5703\"/>\n",
       "<polygon fill=\"#000000\" stroke=\"#000000\" points=\"1197.5523,-783.967 1199.4424,-773.5422 1191.4638,-780.513 1197.5523,-783.967\"/>\n",
       "</g>\n",
       "<!-- 53 -->\n",
       "<g id=\"node54\" class=\"node\">\n",
       "<title>53</title>\n",
       "<polygon fill=\"none\" stroke=\"#000000\" points=\"1381,-773.5 1282,-773.5 1282,-720.5 1381,-720.5 1381,-773.5\"/>\n",
       "<text text-anchor=\"middle\" x=\"1331.5\" y=\"-758.3\" font-family=\"Times,serif\" font-size=\"14.00\" fill=\"#000000\">mse = 7.774</text>\n",
       "<text text-anchor=\"middle\" x=\"1331.5\" y=\"-743.3\" font-family=\"Times,serif\" font-size=\"14.00\" fill=\"#000000\">samples = 16</text>\n",
       "<text text-anchor=\"middle\" x=\"1331.5\" y=\"-728.3\" font-family=\"Times,serif\" font-size=\"14.00\" fill=\"#000000\">value = 47.975</text>\n",
       "</g>\n",
       "<!-- 52&#45;&gt;53 -->\n",
       "<g id=\"edge53\" class=\"edge\">\n",
       "<title>52&#45;&gt;53</title>\n",
       "<path fill=\"none\" stroke=\"#000000\" d=\"M1331.5,-816.9465C1331.5,-806.2621 1331.5,-794.4254 1331.5,-783.5742\"/>\n",
       "<polygon fill=\"#000000\" stroke=\"#000000\" points=\"1335.0001,-783.5421 1331.5,-773.5422 1328.0001,-783.5422 1335.0001,-783.5421\"/>\n",
       "</g>\n",
       "<!-- 54 -->\n",
       "<g id=\"node55\" class=\"node\">\n",
       "<title>54</title>\n",
       "<polygon fill=\"none\" stroke=\"#000000\" points=\"1498,-773.5 1399,-773.5 1399,-720.5 1498,-720.5 1498,-773.5\"/>\n",
       "<text text-anchor=\"middle\" x=\"1448.5\" y=\"-758.3\" font-family=\"Times,serif\" font-size=\"14.00\" fill=\"#000000\">mse = 49.315</text>\n",
       "<text text-anchor=\"middle\" x=\"1448.5\" y=\"-743.3\" font-family=\"Times,serif\" font-size=\"14.00\" fill=\"#000000\">samples = 14</text>\n",
       "<text text-anchor=\"middle\" x=\"1448.5\" y=\"-728.3\" font-family=\"Times,serif\" font-size=\"14.00\" fill=\"#000000\">value = 41.807</text>\n",
       "</g>\n",
       "<!-- 52&#45;&gt;54 -->\n",
       "<g id=\"edge54\" class=\"edge\">\n",
       "<title>52&#45;&gt;54</title>\n",
       "<path fill=\"none\" stroke=\"#000000\" d=\"M1369.8102,-816.9465C1383.0694,-805.1606 1397.9058,-791.9726 1411.0916,-780.2519\"/>\n",
       "<polygon fill=\"#000000\" stroke=\"#000000\" points=\"1413.4912,-782.8018 1418.6401,-773.5422 1408.8407,-777.5699 1413.4912,-782.8018\"/>\n",
       "</g>\n",
       "</g>\n",
       "</svg>\n"
      ],
      "text/plain": [
       "<graphviz.files.Source at 0x7f18800a4e20>"
      ]
     },
     "execution_count": 88,
     "metadata": {},
     "output_type": "execute_result"
    }
   ],
   "source": [
    "from sklearn.tree import export_graphviz\n",
    "with open(\"resources/boston_houses_dtree.dot\", \"w\") as dotfile:\n",
    "    export_graphviz(regtree, out_file=dotfile, feature_names=predictors)\n",
    "    dotfile.close()\n",
    "import os\n",
    "from graphviz import Source\n",
    "file = open(\"resources/boston_houses_dtree.dot\", \"r\")\n",
    "text = file.read()\n",
    "Source(text)"
   ]
  },
  {
   "cell_type": "markdown",
   "metadata": {},
   "source": [
    "## Validación cruzada para estudiar la consistencia del modelo"
   ]
  },
  {
   "cell_type": "code",
   "execution_count": 89,
   "metadata": {},
   "outputs": [],
   "source": [
    "from sklearn.model_selection import KFold\n",
    "from sklearn.model_selection import cross_val_score\n",
    "import numpy as np"
   ]
  },
  {
   "cell_type": "code",
   "execution_count": 90,
   "metadata": {},
   "outputs": [
    {
     "name": "stdout",
     "output_type": "stream",
     "text": [
      "Scores  [-11.41710312 -20.42379177 -15.67286877 -19.44653413 -31.88399981\n",
      " -27.69375402 -12.93730663 -19.59240495 -16.69053191 -27.84939302]\n",
      " Score  -20.360768811894822\n"
     ]
    }
   ],
   "source": [
    "cv = KFold(n_splits=10, shuffle=True, random_state=42)\n",
    "scores = cross_val_score(regtree, X, y, scoring=\"neg_mean_squared_error\", cv=cv, n_jobs=1)\n",
    "score = np.mean(scores)\n",
    "print(\"Scores \", scores)\n",
    "print(\" Score \" , score)"
   ]
  },
  {
   "cell_type": "code",
   "execution_count": 91,
   "metadata": {},
   "outputs": [
    {
     "name": "stdout",
     "output_type": "stream",
     "text": [
      "Importancia de las variables:\n"
     ]
    },
    {
     "data": {
      "text/plain": [
       "[('crim', 0.034212032306401664),\n",
       " ('zn', 0.0),\n",
       " ('indus', 0.0011605887788362535),\n",
       " ('chas', 0.0),\n",
       " ('nox', 0.01856163073811281),\n",
       " ('rm', 0.6308568014336987),\n",
       " ('age', 0.01725115143448252),\n",
       " ('dis', 0.0013745115995799774),\n",
       " ('rad', 0.0),\n",
       " ('tax', 0.002369830529879818),\n",
       " ('ptratio', 0.009333247332534616),\n",
       " ('black', 0.0),\n",
       " ('lstat', 0.2848802058464736)]"
      ]
     },
     "execution_count": 91,
     "metadata": {},
     "output_type": "execute_result"
    }
   ],
   "source": [
    "print(\"Importancia de las variables:\")\n",
    "list(zip(predictors, regtree.feature_importances_))"
   ]
  },
  {
   "cell_type": "markdown",
   "metadata": {},
   "source": [
    "# Random forest para regresión"
   ]
  },
  {
   "cell_type": "code",
   "execution_count": 92,
   "metadata": {},
   "outputs": [],
   "source": [
    "from sklearn.ensemble import RandomForestRegressor"
   ]
  },
  {
   "cell_type": "code",
   "execution_count": 93,
   "metadata": {},
   "outputs": [],
   "source": [
    "# n_jobs: tareas en paralelo\n",
    "# oob_score: hace un muestreo aleatorio\n",
    "# n_estimators: nº de árboles\n",
    "forest = RandomForestRegressor(n_jobs=2, oob_score=True, n_estimators=10)"
   ]
  },
  {
   "cell_type": "code",
   "execution_count": 94,
   "metadata": {},
   "outputs": [
    {
     "name": "stderr",
     "output_type": "stream",
     "text": [
      "/home/jcla/anaconda3/lib/python3.8/site-packages/sklearn/ensemble/_forest.py:832: UserWarning: Some inputs do not have OOB scores. This probably means too few trees were used to compute any reliable oob estimates.\n",
      "  warn(\"Some inputs do not have OOB scores. \"\n"
     ]
    },
    {
     "data": {
      "text/plain": [
       "RandomForestRegressor(n_estimators=10, n_jobs=2, oob_score=True)"
      ]
     },
     "execution_count": 94,
     "metadata": {},
     "output_type": "execute_result"
    }
   ],
   "source": [
    "forest.fit(X,y)"
   ]
  },
  {
   "cell_type": "code",
   "execution_count": 95,
   "metadata": {},
   "outputs": [
    {
     "data": {
      "text/plain": [
       "array([33.4       , 22.73333333, 33.25      , 33.95      , 35.13333333,\n",
       "       24.96      , 20.3       , 15.55      , 19.7       , 19.5       ,\n",
       "       23.56666667, 20.28333333, 20.76666667, 19.3       , 18.9       ,\n",
       "       21.075     , 21.53333333, 18.725     , 16.375     , 20.73333333,\n",
       "       13.54      , 26.4       , 16.05      , 14.2       , 14.82      ,\n",
       "       15.6       , 17.9       , 15.33333333, 17.15      , 23.5       ,\n",
       "       14.95      , 19.16      , 14.15      , 15.23333333, 13.2       ,\n",
       "       21.05      , 21.775     , 20.8       , 22.775     , 26.34      ,\n",
       "       31.6       , 28.85      , 23.45      ,  0.        , 26.9       ,\n",
       "       19.16666667, 18.35      , 18.5       , 17.9       , 20.06666667,\n",
       "       21.53333333, 24.3       , 27.23333333, 20.28      , 19.85      ,\n",
       "       34.2       , 21.93333333, 30.56666667, 21.1       , 20.225     ,\n",
       "       19.56      , 19.56      , 24.06666667, 27.05      , 32.9       ,\n",
       "       22.45      , 20.25      , 19.96666667, 19.34285714, 21.24      ,\n",
       "       23.33333333, 23.8       , 24.95      , 23.925     , 26.        ,\n",
       "       22.32      , 21.2       , 22.56666667, 22.        , 20.7       ,\n",
       "       26.625     , 26.425     , 22.475     , 25.46666667, 22.26666667,\n",
       "       26.73333333, 21.2       , 21.925     , 30.7       , 33.3       ,\n",
       "       24.92      , 23.61666667, 24.03333333, 27.06666667, 22.43333333,\n",
       "       25.1       ,  0.        , 45.86666667, 43.525     , 32.4       ,\n",
       "       24.25      , 23.83333333, 14.9       , 20.08      , 20.4       ,\n",
       "       19.05      , 18.2       , 18.5       , 19.375     , 25.15      ,\n",
       "       21.6       , 24.04      , 19.        , 22.25      , 19.05      ,\n",
       "       19.26      , 19.4       , 18.74      , 18.63333333, 21.66666667,\n",
       "       20.225     , 19.83333333, 19.63333333, 16.1       , 19.56666667,\n",
       "       19.975     , 16.58      , 16.05      , 17.45      , 15.225     ,\n",
       "       18.22      , 18.9       , 18.26666667, 17.24      , 13.2       ,\n",
       "       17.32      , 15.56666667, 18.525     , 12.93333333,  7.        ,\n",
       "       13.975     , 14.78      , 14.55      , 14.725     , 14.2       ,\n",
       "       12.06      , 14.48      , 15.        , 13.95      , 15.5       ,\n",
       "       19.6       , 15.225     , 16.1       , 15.1       , 16.45      ,\n",
       "       18.73333333, 15.45      , 30.2       , 24.23333333, 24.2       ,\n",
       "       24.02      , 43.66666667, 42.03333333, 43.84      , 19.26666667,\n",
       "       23.8       , 50.        , 21.46      , 20.63333333, 23.6       ,\n",
       "       20.375     , 23.06666667, 19.25      , 21.4       , 17.6       ,\n",
       "       24.1       , 22.8       , 21.4       , 26.9       , 33.375     ,\n",
       "       45.44      , 24.84      , 35.24      , 29.23333333, 27.825     ,\n",
       "       23.625     , 44.6       , 27.2       , 26.125     , 33.95      ,\n",
       "       28.91666667, 30.25      , 33.46666667, 31.625     , 27.42      ,\n",
       "       49.625     , 33.96      , 32.15      , 32.025     , 31.42      ,\n",
       "       32.6       , 23.575     , 50.        , 50.        , 48.5       ,\n",
       "       21.875     , 22.73333333, 20.55      , 20.36666667, 15.5       ,\n",
       "       20.43333333, 17.03333333, 20.88      , 23.86666667, 19.43333333,\n",
       "       23.62857143, 21.6       , 24.975     , 21.3       , 19.6       ,\n",
       "       32.06666667, 20.04      , 27.225     , 25.36666667, 49.15      ,\n",
       "       43.25      , 46.26666667, 33.9       , 41.5       , 28.88333333,\n",
       "       21.92      , 32.4       , 41.73333333, 43.03333333, 27.4       ,\n",
       "       22.75      , 25.7       , 32.73333333, 24.2       , 27.5       ,\n",
       "       28.66      , 22.625     , 21.4       , 24.1       , 18.2       ,\n",
       "       18.8       , 22.8       , 19.84      , 23.325     , 25.3       ,\n",
       "       26.4       , 24.2       , 27.7       , 42.85      , 23.05      ,\n",
       "       16.9       , 39.32      , 45.525     , 32.53333333, 28.52      ,\n",
       "       31.        , 35.2       , 44.825     , 30.7       , 34.28333333,\n",
       "       23.5       , 27.21666667, 42.2       , 46.55      , 20.02      ,\n",
       "       20.84      , 24.6       , 24.375     , 42.8       , 31.58      ,\n",
       "       29.425     , 32.23333333, 29.8       , 27.3       , 29.55      ,\n",
       "       47.5       , 33.35714286, 40.14      , 40.13333333, 31.975     ,\n",
       "       20.5       , 23.53333333, 23.15      , 23.525     , 26.2       ,\n",
       "       31.55      , 36.2       , 28.64      , 21.65      , 20.8       ,\n",
       "       26.45      , 23.5       , 21.        , 23.16      , 31.9       ,\n",
       "       28.93333333, 26.9       , 23.18571429, 33.875     , 33.36666667,\n",
       "       30.05      , 36.16666667, 28.6       , 24.45      , 20.98333333,\n",
       "       19.9       , 25.56666667, 23.03333333, 19.325     , 24.275     ,\n",
       "       19.23333333, 18.62      , 20.5       , 19.9       , 21.4       ,\n",
       "       27.35      , 24.52      , 19.26666667, 19.        , 24.1       ,\n",
       "       24.        , 23.32      , 22.04      , 20.36666667, 23.31428571,\n",
       "       21.6       , 17.2       , 22.825     , 20.7       , 22.2       ,\n",
       "       16.25      , 19.1       , 19.84      , 21.1       , 19.5       ,\n",
       "       19.13333333, 33.2       , 20.9       ,  0.        , 29.3       ,\n",
       "       21.3       , 18.48      , 23.85      , 27.18333333, 27.5       ,\n",
       "       26.1       , 24.26666667, 20.8       , 31.3       , 20.85      ,\n",
       "       21.3       , 14.3       , 21.9       , 21.7       , 21.72      ,\n",
       "       21.05      , 22.98      , 19.43333333, 18.08      , 43.91666667,\n",
       "       18.45      , 16.1       , 15.28571429, 31.975     , 23.7       ,\n",
       "       35.6375    , 39.11428571, 29.86666667, 11.525     , 11.725     ,\n",
       "       21.1       , 11.36666667, 10.6       ,  9.56666667, 11.2       ,\n",
       "       30.4       ,  7.2       , 10.62      ,  9.35      ,  7.725     ,\n",
       "        8.8       ,  7.08      ,  7.325     ,  7.68      , 10.76666667,\n",
       "       13.9       , 19.24      , 10.54      , 15.5       , 14.66666667,\n",
       "       15.73333333, 12.86666667, 13.5       ,  7.4       , 13.675     ,\n",
       "        8.64      ,  5.6       , 10.3       , 10.825     ,  8.15      ,\n",
       "        6.3       , 13.625     , 25.075     , 15.76666667, 13.375     ,\n",
       "       22.925     , 15.82      , 17.97142857, 12.4       ,  7.06666667,\n",
       "        9.63333333, 12.325     ,  8.95      ,  6.16666667,  9.275     ,\n",
       "       13.93333333, 16.1       , 16.75      , 14.16666667, 16.1       ,\n",
       "       10.65      , 14.05      , 16.5       , 15.66666667, 11.05      ,\n",
       "       15.68      , 25.475     , 11.7       , 15.2       , 12.7       ,\n",
       "       11.975     , 12.31666667, 10.1       ,  7.92      , 11.9       ,\n",
       "       10.8       , 13.44      , 15.95      , 16.25714286,  9.825     ,\n",
       "       12.28333333, 14.95      , 15.96666667, 16.1       , 14.63333333,\n",
       "       14.3       , 14.8       , 16.4       , 19.53333333, 15.05714286,\n",
       "       13.96666667, 16.7       , 17.02      , 15.        , 18.475     ,\n",
       "       13.93333333, 19.2       , 21.4       , 16.5       , 20.56666667,\n",
       "       22.53333333, 17.35      , 12.7       , 11.1       , 17.58      ,\n",
       "       15.93333333, 21.875     ,  0.        , 20.        , 15.6       ,\n",
       "       16.425     , 17.95      , 11.83333333, 14.1       , 18.975     ,\n",
       "       21.84      , 26.8       , 29.4       , 21.8       , 21.18      ,\n",
       "       21.7       , 18.35      , 21.96      ,  8.3       , 12.475     ,\n",
       "       15.7       , 16.18333333, 20.4       , 18.        , 20.4375    ,\n",
       "       19.13333333, 15.8       , 20.25      , 20.        , 19.7       ,\n",
       "       18.76666667, 24.93333333, 22.4       , 32.975     , 26.875     ,\n",
       "       20.74      ])"
      ]
     },
     "execution_count": 95,
     "metadata": {},
     "output_type": "execute_result"
    }
   ],
   "source": [
    "forest.oob_prediction_"
   ]
  },
  {
   "cell_type": "code",
   "execution_count": 96,
   "metadata": {},
   "outputs": [
    {
     "data": {
      "text/html": [
       "<div>\n",
       "<style scoped>\n",
       "    .dataframe tbody tr th:only-of-type {\n",
       "        vertical-align: middle;\n",
       "    }\n",
       "\n",
       "    .dataframe tbody tr th {\n",
       "        vertical-align: top;\n",
       "    }\n",
       "\n",
       "    .dataframe thead th {\n",
       "        text-align: right;\n",
       "    }\n",
       "</style>\n",
       "<table border=\"1\" class=\"dataframe\">\n",
       "  <thead>\n",
       "    <tr style=\"text-align: right;\">\n",
       "      <th></th>\n",
       "      <th>rforest_pred</th>\n",
       "      <th>medv</th>\n",
       "    </tr>\n",
       "  </thead>\n",
       "  <tbody>\n",
       "    <tr>\n",
       "      <th>0</th>\n",
       "      <td>33.400000</td>\n",
       "      <td>24.0</td>\n",
       "    </tr>\n",
       "    <tr>\n",
       "      <th>1</th>\n",
       "      <td>22.733333</td>\n",
       "      <td>21.6</td>\n",
       "    </tr>\n",
       "    <tr>\n",
       "      <th>2</th>\n",
       "      <td>33.250000</td>\n",
       "      <td>34.7</td>\n",
       "    </tr>\n",
       "    <tr>\n",
       "      <th>3</th>\n",
       "      <td>33.950000</td>\n",
       "      <td>33.4</td>\n",
       "    </tr>\n",
       "    <tr>\n",
       "      <th>4</th>\n",
       "      <td>35.133333</td>\n",
       "      <td>36.2</td>\n",
       "    </tr>\n",
       "    <tr>\n",
       "      <th>...</th>\n",
       "      <td>...</td>\n",
       "      <td>...</td>\n",
       "    </tr>\n",
       "    <tr>\n",
       "      <th>501</th>\n",
       "      <td>24.933333</td>\n",
       "      <td>22.4</td>\n",
       "    </tr>\n",
       "    <tr>\n",
       "      <th>502</th>\n",
       "      <td>22.400000</td>\n",
       "      <td>20.6</td>\n",
       "    </tr>\n",
       "    <tr>\n",
       "      <th>503</th>\n",
       "      <td>32.975000</td>\n",
       "      <td>23.9</td>\n",
       "    </tr>\n",
       "    <tr>\n",
       "      <th>504</th>\n",
       "      <td>26.875000</td>\n",
       "      <td>22.0</td>\n",
       "    </tr>\n",
       "    <tr>\n",
       "      <th>505</th>\n",
       "      <td>20.740000</td>\n",
       "      <td>11.9</td>\n",
       "    </tr>\n",
       "  </tbody>\n",
       "</table>\n",
       "<p>506 rows × 2 columns</p>\n",
       "</div>"
      ],
      "text/plain": [
       "     rforest_pred  medv\n",
       "0       33.400000  24.0\n",
       "1       22.733333  21.6\n",
       "2       33.250000  34.7\n",
       "3       33.950000  33.4\n",
       "4       35.133333  36.2\n",
       "..            ...   ...\n",
       "501     24.933333  22.4\n",
       "502     22.400000  20.6\n",
       "503     32.975000  23.9\n",
       "504     26.875000  22.0\n",
       "505     20.740000  11.9\n",
       "\n",
       "[506 rows x 2 columns]"
      ]
     },
     "execution_count": 96,
     "metadata": {},
     "output_type": "execute_result"
    }
   ],
   "source": [
    "data[\"rforest_pred\"] = forest.oob_prediction_\n",
    "data[[\"rforest_pred\", \"medv\"]]"
   ]
  },
  {
   "cell_type": "code",
   "execution_count": 97,
   "metadata": {},
   "outputs": [
    {
     "data": {
      "text/plain": [
       "19.93186072386465"
      ]
     },
     "execution_count": 97,
     "metadata": {},
     "output_type": "execute_result"
    }
   ],
   "source": [
    "# Calculo del error cuadrádico medio para la regresión. Aquí no necesitamos validación cruzada.\n",
    "data[\"rforest_error\"] = (data[\"rforest_pred\"] - data[\"medv\"]) ** 2\n",
    "sum(data[\"rforest_error\"]) / len(data)"
   ]
  },
  {
   "cell_type": "markdown",
   "metadata": {},
   "source": [
    "Vemos que hemos bajado un poquito el error. Antes teníamos 20 y pico y ahora tenemos 19.77.\n",
    "\n",
    "Otro parámetro que podemos estudiar es el oob_score, es similiar al coeficiente de determinación que se estudiaba en la regresión lineal."
   ]
  },
  {
   "cell_type": "code",
   "execution_count": 98,
   "metadata": {},
   "outputs": [
    {
     "data": {
      "text/plain": [
       "0.7638952201194565"
      ]
     },
     "execution_count": 98,
     "metadata": {},
     "output_type": "execute_result"
    }
   ],
   "source": [
    "forest.oob_score_"
   ]
  },
  {
   "cell_type": "markdown",
   "metadata": {},
   "source": [
    "Podemos repetir la prueba y aumentar el número de estimadores **n_estimators** para que nuestro bosque tenga más árboles."
   ]
  },
  {
   "cell_type": "markdown",
   "metadata": {},
   "source": [
    "# Random forest para clasificación"
   ]
  },
  {
   "cell_type": "code",
   "execution_count": 99,
   "metadata": {},
   "outputs": [],
   "source": [
    "from sklearn.ensemble import RandomForestClassifier"
   ]
  },
  {
   "cell_type": "code",
   "execution_count": 100,
   "metadata": {},
   "outputs": [],
   "source": [
    "# n_jobs: tareas en paralelo\n",
    "# oob_score: hace un muestreo aleatorio\n",
    "# n_estimators: nº de árboles\n",
    "forest = RandomForestClassifier(n_jobs=2, oob_score=True, n_estimators=100)"
   ]
  },
  {
   "cell_type": "code",
   "execution_count": 101,
   "metadata": {},
   "outputs": [],
   "source": [
    "# Utilizamos los datos de las flores\n",
    "data = pd.read_csv(\"datasets/iris/iris.csv\")\n",
    "predictors = data.columns.values[:4]\n",
    "target = data.columns.values[4]"
   ]
  },
  {
   "cell_type": "code",
   "execution_count": 102,
   "metadata": {},
   "outputs": [
    {
     "data": {
      "text/plain": [
       "RandomForestClassifier(n_jobs=2, oob_score=True)"
      ]
     },
     "execution_count": 102,
     "metadata": {},
     "output_type": "execute_result"
    }
   ],
   "source": [
    "forest.fit(data[predictors], data[target])"
   ]
  },
  {
   "cell_type": "code",
   "execution_count": 103,
   "metadata": {},
   "outputs": [
    {
     "data": {
      "text/plain": [
       "array([[1.        , 0.        , 0.        ],\n",
       "       [1.        , 0.        , 0.        ],\n",
       "       [1.        , 0.        , 0.        ],\n",
       "       [1.        , 0.        , 0.        ],\n",
       "       [1.        , 0.        , 0.        ],\n",
       "       [1.        , 0.        , 0.        ],\n",
       "       [1.        , 0.        , 0.        ],\n",
       "       [1.        , 0.        , 0.        ],\n",
       "       [1.        , 0.        , 0.        ],\n",
       "       [1.        , 0.        , 0.        ],\n",
       "       [1.        , 0.        , 0.        ],\n",
       "       [1.        , 0.        , 0.        ],\n",
       "       [1.        , 0.        , 0.        ],\n",
       "       [1.        , 0.        , 0.        ],\n",
       "       [1.        , 0.        , 0.        ],\n",
       "       [1.        , 0.        , 0.        ],\n",
       "       [1.        , 0.        , 0.        ],\n",
       "       [1.        , 0.        , 0.        ],\n",
       "       [1.        , 0.        , 0.        ],\n",
       "       [1.        , 0.        , 0.        ],\n",
       "       [1.        , 0.        , 0.        ],\n",
       "       [1.        , 0.        , 0.        ],\n",
       "       [1.        , 0.        , 0.        ],\n",
       "       [1.        , 0.        , 0.        ],\n",
       "       [1.        , 0.        , 0.        ],\n",
       "       [1.        , 0.        , 0.        ],\n",
       "       [1.        , 0.        , 0.        ],\n",
       "       [1.        , 0.        , 0.        ],\n",
       "       [1.        , 0.        , 0.        ],\n",
       "       [1.        , 0.        , 0.        ],\n",
       "       [1.        , 0.        , 0.        ],\n",
       "       [1.        , 0.        , 0.        ],\n",
       "       [1.        , 0.        , 0.        ],\n",
       "       [1.        , 0.        , 0.        ],\n",
       "       [1.        , 0.        , 0.        ],\n",
       "       [1.        , 0.        , 0.        ],\n",
       "       [0.96551724, 0.03448276, 0.        ],\n",
       "       [1.        , 0.        , 0.        ],\n",
       "       [1.        , 0.        , 0.        ],\n",
       "       [1.        , 0.        , 0.        ],\n",
       "       [1.        , 0.        , 0.        ],\n",
       "       [1.        , 0.        , 0.        ],\n",
       "       [1.        , 0.        , 0.        ],\n",
       "       [1.        , 0.        , 0.        ],\n",
       "       [1.        , 0.        , 0.        ],\n",
       "       [1.        , 0.        , 0.        ],\n",
       "       [1.        , 0.        , 0.        ],\n",
       "       [1.        , 0.        , 0.        ],\n",
       "       [1.        , 0.        , 0.        ],\n",
       "       [1.        , 0.        , 0.        ],\n",
       "       [0.        , 0.91666667, 0.08333333],\n",
       "       [0.        , 0.97222222, 0.02777778],\n",
       "       [0.        , 0.67391304, 0.32608696],\n",
       "       [0.        , 1.        , 0.        ],\n",
       "       [0.        , 0.95      , 0.05      ],\n",
       "       [0.        , 1.        , 0.        ],\n",
       "       [0.        , 0.91176471, 0.08823529],\n",
       "       [0.        , 0.64864865, 0.35135135],\n",
       "       [0.        , 1.        , 0.        ],\n",
       "       [0.        , 1.        , 0.        ],\n",
       "       [0.        , 0.89473684, 0.10526316],\n",
       "       [0.        , 1.        , 0.        ],\n",
       "       [0.        , 0.875     , 0.125     ],\n",
       "       [0.        , 1.        , 0.        ],\n",
       "       [0.        , 1.        , 0.        ],\n",
       "       [0.        , 1.        , 0.        ],\n",
       "       [0.        , 1.        , 0.        ],\n",
       "       [0.        , 1.        , 0.        ],\n",
       "       [0.        , 0.91304348, 0.08695652],\n",
       "       [0.        , 1.        , 0.        ],\n",
       "       [0.        , 0.05405405, 0.94594595],\n",
       "       [0.        , 1.        , 0.        ],\n",
       "       [0.        , 0.55      , 0.45      ],\n",
       "       [0.        , 1.        , 0.        ],\n",
       "       [0.        , 1.        , 0.        ],\n",
       "       [0.        , 0.97777778, 0.02222222],\n",
       "       [0.        , 0.83333333, 0.16666667],\n",
       "       [0.        , 0.03225806, 0.96774194],\n",
       "       [0.        , 1.        , 0.        ],\n",
       "       [0.        , 1.        , 0.        ],\n",
       "       [0.        , 1.        , 0.        ],\n",
       "       [0.        , 1.        , 0.        ],\n",
       "       [0.        , 1.        , 0.        ],\n",
       "       [0.        , 0.12      , 0.88      ],\n",
       "       [0.03571429, 0.92857143, 0.03571429],\n",
       "       [0.        , 1.        , 0.        ],\n",
       "       [0.        , 1.        , 0.        ],\n",
       "       [0.        , 0.96428571, 0.03571429],\n",
       "       [0.        , 1.        , 0.        ],\n",
       "       [0.        , 1.        , 0.        ],\n",
       "       [0.        , 0.94444444, 0.05555556],\n",
       "       [0.        , 0.975     , 0.025     ],\n",
       "       [0.        , 1.        , 0.        ],\n",
       "       [0.        , 0.91891892, 0.08108108],\n",
       "       [0.        , 1.        , 0.        ],\n",
       "       [0.        , 1.        , 0.        ],\n",
       "       [0.        , 1.        , 0.        ],\n",
       "       [0.        , 1.        , 0.        ],\n",
       "       [0.        , 1.        , 0.        ],\n",
       "       [0.        , 1.        , 0.        ],\n",
       "       [0.        , 0.        , 1.        ],\n",
       "       [0.        , 0.1       , 0.9       ],\n",
       "       [0.        , 0.        , 1.        ],\n",
       "       [0.        , 0.        , 1.        ],\n",
       "       [0.        , 0.        , 1.        ],\n",
       "       [0.        , 0.        , 1.        ],\n",
       "       [0.        , 0.97368421, 0.02631579],\n",
       "       [0.        , 0.02564103, 0.97435897],\n",
       "       [0.        , 0.10810811, 0.89189189],\n",
       "       [0.        , 0.        , 1.        ],\n",
       "       [0.        , 0.        , 1.        ],\n",
       "       [0.        , 0.02564103, 0.97435897],\n",
       "       [0.        , 0.        , 1.        ],\n",
       "       [0.        , 0.09756098, 0.90243902],\n",
       "       [0.        , 0.02702703, 0.97297297],\n",
       "       [0.        , 0.        , 1.        ],\n",
       "       [0.        , 0.        , 1.        ],\n",
       "       [0.        , 0.        , 1.        ],\n",
       "       [0.        , 0.02631579, 0.97368421],\n",
       "       [0.        , 0.77272727, 0.22727273],\n",
       "       [0.        , 0.        , 1.        ],\n",
       "       [0.        , 0.17857143, 0.82142857],\n",
       "       [0.        , 0.        , 1.        ],\n",
       "       [0.        , 0.15384615, 0.84615385],\n",
       "       [0.        , 0.        , 1.        ],\n",
       "       [0.        , 0.02702703, 0.97297297],\n",
       "       [0.        , 0.35897436, 0.64102564],\n",
       "       [0.        , 0.03125   , 0.96875   ],\n",
       "       [0.        , 0.        , 1.        ],\n",
       "       [0.        , 0.42857143, 0.57142857],\n",
       "       [0.        , 0.        , 1.        ],\n",
       "       [0.        , 0.        , 1.        ],\n",
       "       [0.        , 0.        , 1.        ],\n",
       "       [0.        , 0.52      , 0.48      ],\n",
       "       [0.        , 0.68965517, 0.31034483],\n",
       "       [0.        , 0.        , 1.        ],\n",
       "       [0.        , 0.        , 1.        ],\n",
       "       [0.        , 0.        , 1.        ],\n",
       "       [0.        , 0.51428571, 0.48571429],\n",
       "       [0.        , 0.        , 1.        ],\n",
       "       [0.        , 0.        , 1.        ],\n",
       "       [0.        , 0.05128205, 0.94871795],\n",
       "       [0.        , 0.06976744, 0.93023256],\n",
       "       [0.        , 0.        , 1.        ],\n",
       "       [0.        , 0.        , 1.        ],\n",
       "       [0.        , 0.02631579, 0.97368421],\n",
       "       [0.        , 0.22857143, 0.77142857],\n",
       "       [0.        , 0.        , 1.        ],\n",
       "       [0.        , 0.        , 1.        ],\n",
       "       [0.        , 0.15625   , 0.84375   ]])"
      ]
     },
     "execution_count": 103,
     "metadata": {},
     "output_type": "execute_result"
    }
   ],
   "source": [
    "# Con esto obtenemos la probabilidad de que cada observación pertenezca a una clase u otra\n",
    "forest.oob_decision_function_"
   ]
  },
  {
   "cell_type": "code",
   "execution_count": 104,
   "metadata": {},
   "outputs": [
    {
     "data": {
      "text/plain": [
       "0.9466666666666667"
      ]
     },
     "execution_count": 104,
     "metadata": {},
     "output_type": "execute_result"
    }
   ],
   "source": [
    "forest.oob_score_"
   ]
  },
  {
   "cell_type": "markdown",
   "metadata": {},
   "source": [
    "Con este score veo que he aumentado la precisión de nuestro algoritmo."
   ]
  }
 ],
 "metadata": {
  "kernelspec": {
   "display_name": "Python 3",
   "language": "python",
   "name": "python3"
  },
  "language_info": {
   "codemirror_mode": {
    "name": "ipython",
    "version": 3
   },
   "file_extension": ".py",
   "mimetype": "text/x-python",
   "name": "python",
   "nbconvert_exporter": "python",
   "pygments_lexer": "ipython3",
   "version": "3.8.3"
  }
 },
 "nbformat": 4,
 "nbformat_minor": 4
}
